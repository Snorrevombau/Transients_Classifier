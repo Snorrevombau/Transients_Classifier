{
 "cells": [
  {
   "cell_type": "code",
   "execution_count": 1,
   "metadata": {
    "collapsed": true
   },
   "outputs": [],
   "source": [
    "import pandas as pd\n",
    "import numpy as np\n",
    "import itertools\n",
    "import os\n",
    "from IPython.display import display, HTML\n",
    "\n",
    "\n",
    "from Event_detection_functions import *\n"
   ]
  },
  {
   "cell_type": "code",
   "execution_count": 2,
   "metadata": {
    "collapsed": true
   },
   "outputs": [],
   "source": [
    "# Decleration of dataframes \n",
    "Event_df = pd.DataFrame(columns = ['timestamp','Phase','minuten_index',\n",
    "                                   'Ladevorgang', 'Status', 'Ladeleistung',\n",
    "                                   'minuten_index_Abschaltung','timestamp_abschalt'])\n",
    "pseudocode_df = pd.DataFrame([])\n"
   ]
  },
  {
   "cell_type": "code",
   "execution_count": 3,
   "metadata": {},
   "outputs": [
    {
     "name": "stderr",
     "output_type": "stream",
     "text": [
      "/Users/markus/version-control/transients_classifier/Implementation_Events Kopie/Event_detection_functions.py:84: SettingWithCopyWarning: \n",
      "A value is trying to be set on a copy of a slice from a DataFrame.\n",
      "Try using .loc[row_indexer,col_indexer] = value instead\n",
      "\n",
      "See the caveats in the documentation: http://pandas.pydata.org/pandas-docs/stable/indexing.html#indexing-view-versus-copy\n",
      "  only_load_event_df['deviation_P'] = only_load_event_df['Ladeleistung'].apply(lambda ladeleistung_auto: abs(ladeleistung_auto-P_residual)/ladeleistung_auto)\n"
     ]
    }
   ],
   "source": [
    "#test loop, delete later\n",
    "for minute_day in range (1,500):\n",
    "\n",
    "    # Insert this in the update routine after the power_today_minute.csv export\n",
    "    # The following variables have to be set to the corresponding dataframe in the environment (export to power_today_minute_x.csv)\n",
    "    P_Phase_1 = pd.read_csv('power_today_minute_1.csv', names = ['timestamp','P'])\n",
    "    P_Phase_1 = P_Phase_1[:minute_day]\n",
    "    P_Phase_2 = pd.read_csv('power_today_minute_2.csv', names = ['timestamp','P'])\n",
    "    P_Phase_2 = P_Phase_2[:minute_day]\n",
    "    P_Phase_3 = pd.read_csv('power_today_minute_3.csv', names = ['timestamp','P'])\n",
    "    P_Phase_3 = P_Phase_3[:minute_day]\n",
    "\n",
    "    dict = {1:P_Phase_1,2:P_Phase_2,3:P_Phase_3}\n",
    "\n",
    "    #Detection of switch-on and switch-off events\n",
    "    for Phase in range (1,4):\n",
    "        \n",
    "        pseudocode_df = dict[Phase]\n",
    "        pseudocode_df['P_delta'] = dict[Phase].P.diff()\n",
    "        Event_df = detect_switch_event(pseudocode_df, Phase, Event_df)\n",
    "\n",
    "        \n"
   ]
  },
  {
   "cell_type": "code",
   "execution_count": 4,
   "metadata": {},
   "outputs": [
    {
     "data": {
      "text/html": [
       "<div>\n",
       "<style>\n",
       "    .dataframe thead tr:only-child th {\n",
       "        text-align: right;\n",
       "    }\n",
       "\n",
       "    .dataframe thead th {\n",
       "        text-align: left;\n",
       "    }\n",
       "\n",
       "    .dataframe tbody tr th {\n",
       "        vertical-align: top;\n",
       "    }\n",
       "</style>\n",
       "<table border=\"1\" class=\"dataframe\">\n",
       "  <thead>\n",
       "    <tr style=\"text-align: right;\">\n",
       "      <th></th>\n",
       "      <th>timestamp</th>\n",
       "      <th>Phase</th>\n",
       "      <th>minuten_index</th>\n",
       "      <th>Ladevorgang</th>\n",
       "      <th>Status</th>\n",
       "      <th>Ladeleistung</th>\n",
       "      <th>minuten_index_Abschaltung</th>\n",
       "      <th>timestamp_abschalt</th>\n",
       "    </tr>\n",
       "  </thead>\n",
       "  <tbody>\n",
       "    <tr>\n",
       "      <th>0</th>\n",
       "      <td>1.507265e+09</td>\n",
       "      <td>2</td>\n",
       "      <td>407</td>\n",
       "      <td>ein</td>\n",
       "      <td>checked</td>\n",
       "      <td>3604</td>\n",
       "      <td>0</td>\n",
       "      <td>0</td>\n",
       "    </tr>\n",
       "    <tr>\n",
       "      <th>1</th>\n",
       "      <td>1.507267e+09</td>\n",
       "      <td>2</td>\n",
       "      <td>430</td>\n",
       "      <td>ein</td>\n",
       "      <td>checked</td>\n",
       "      <td>3476</td>\n",
       "      <td>0</td>\n",
       "      <td>0</td>\n",
       "    </tr>\n",
       "  </tbody>\n",
       "</table>\n",
       "</div>"
      ],
      "text/plain": [
       "      timestamp Phase minuten_index Ladevorgang   Status Ladeleistung  \\\n",
       "0  1.507265e+09     2           407         ein  checked         3604   \n",
       "1  1.507267e+09     2           430         ein  checked         3476   \n",
       "\n",
       "  minuten_index_Abschaltung timestamp_abschalt  \n",
       "0                         0                  0  \n",
       "1                         0                  0  "
      ]
     },
     "execution_count": 4,
     "metadata": {},
     "output_type": "execute_result"
    }
   ],
   "source": [
    "Event_df"
   ]
  },
  {
   "cell_type": "code",
   "execution_count": 5,
   "metadata": {
    "scrolled": true
   },
   "outputs": [
    {
     "name": "stderr",
     "output_type": "stream",
     "text": [
      "/Users/markus/version-control/transients_classifier/Implementation_Events Kopie/Event_detection_functions.py:133: SettingWithCopyWarning: \n",
      "A value is trying to be set on a copy of a slice from a DataFrame.\n",
      "Try using .loc[row_indexer,col_indexer] = value instead\n",
      "\n",
      "See the caveats in the documentation: http://pandas.pydata.org/pandas-docs/stable/indexing.html#indexing-view-versus-copy\n",
      "  same_events['deviation_average'] = same_events['Ladeleistung'].                                     apply(lambda ladeleistung_auto: ladeleistung_auto/(same_events['Ladeleistung'].mean()))\n"
     ]
    },
    {
     "data": {
      "text/html": [
       "<div>\n",
       "<style>\n",
       "    .dataframe thead tr:only-child th {\n",
       "        text-align: right;\n",
       "    }\n",
       "\n",
       "    .dataframe thead th {\n",
       "        text-align: left;\n",
       "    }\n",
       "\n",
       "    .dataframe tbody tr th {\n",
       "        vertical-align: top;\n",
       "    }\n",
       "</style>\n",
       "<table border=\"1\" class=\"dataframe\">\n",
       "  <thead>\n",
       "    <tr style=\"text-align: right;\">\n",
       "      <th></th>\n",
       "      <th>timestamp_start</th>\n",
       "      <th>Phasen</th>\n",
       "      <th>Durchschnittliche Ladeleistung</th>\n",
       "      <th>Ladevorgang_ende</th>\n",
       "    </tr>\n",
       "  </thead>\n",
       "  <tbody>\n",
       "    <tr>\n",
       "      <th>0</th>\n",
       "      <td>1.507265e+09</td>\n",
       "      <td>[2]</td>\n",
       "      <td>[2: 3604.0]</td>\n",
       "      <td>0</td>\n",
       "    </tr>\n",
       "    <tr>\n",
       "      <th>1</th>\n",
       "      <td>1.507267e+09</td>\n",
       "      <td>[2]</td>\n",
       "      <td>[2: 3476.0]</td>\n",
       "      <td>0</td>\n",
       "    </tr>\n",
       "  </tbody>\n",
       "</table>\n",
       "</div>"
      ],
      "text/plain": [
       "   timestamp_start Phasen Durchschnittliche Ladeleistung Ladevorgang_ende\n",
       "0     1.507265e+09    [2]                    [2: 3604.0]                0\n",
       "1     1.507267e+09    [2]                    [2: 3476.0]                0"
      ]
     },
     "execution_count": 5,
     "metadata": {},
     "output_type": "execute_result"
    }
   ],
   "source": [
    "ladevorgang_df = combine_charging_events(Event_df)\n",
    "ladevorgang_df"
   ]
  },
  {
   "cell_type": "code",
   "execution_count": 7,
   "metadata": {},
   "outputs": [
    {
     "data": {
      "text/html": [
       "<div>\n",
       "<style>\n",
       "    .dataframe thead tr:only-child th {\n",
       "        text-align: right;\n",
       "    }\n",
       "\n",
       "    .dataframe thead th {\n",
       "        text-align: left;\n",
       "    }\n",
       "\n",
       "    .dataframe tbody tr th {\n",
       "        vertical-align: top;\n",
       "    }\n",
       "</style>\n",
       "<table border=\"1\" class=\"dataframe\">\n",
       "  <thead>\n",
       "    <tr style=\"text-align: right;\">\n",
       "      <th></th>\n",
       "      <th>timestamp</th>\n",
       "      <th>cars_total</th>\n",
       "      <th>one_phase</th>\n",
       "      <th>two_phases</th>\n",
       "      <th>three_phases</th>\n",
       "      <th>cars_phase_1</th>\n",
       "      <th>cars_phase_2</th>\n",
       "      <th>cars_phase_3</th>\n",
       "    </tr>\n",
       "  </thead>\n",
       "  <tbody>\n",
       "    <tr>\n",
       "      <th>0</th>\n",
       "      <td>1.507271e+09</td>\n",
       "      <td>2.0</td>\n",
       "      <td>2.0</td>\n",
       "      <td>0.0</td>\n",
       "      <td>0.0</td>\n",
       "      <td>0.0</td>\n",
       "      <td>2.0</td>\n",
       "      <td>0.0</td>\n",
       "    </tr>\n",
       "  </tbody>\n",
       "</table>\n",
       "</div>"
      ],
      "text/plain": [
       "      timestamp  cars_total  one_phase  two_phases  three_phases  \\\n",
       "0  1.507271e+09         2.0        2.0         0.0           0.0   \n",
       "\n",
       "   cars_phase_1  cars_phase_2  cars_phase_3  \n",
       "0           0.0           2.0           0.0  "
      ]
     },
     "execution_count": 7,
     "metadata": {},
     "output_type": "execute_result"
    }
   ],
   "source": [
    "#timestamp has to be replaced by variable used in py script\n",
    "timestamp = (pd.read_csv('power_today_minute_1.csv', names = ['timestamp','P'])).iloc[500]['timestamp']\n",
    "\n",
    "charging_df=cars_charging(timestamp,ladevorgang_df)\n",
    "charging_df"
   ]
  },
  {
   "cell_type": "code",
   "execution_count": 8,
   "metadata": {
    "collapsed": true
   },
   "outputs": [],
   "source": [
    "#export\n",
    "charging_df.to_csv('charging_df.csv', )\n"
   ]
  },
  {
   "cell_type": "code",
   "execution_count": null,
   "metadata": {
    "collapsed": true
   },
   "outputs": [],
   "source": []
  }
 ],
 "metadata": {
  "kernelspec": {
   "display_name": "Python [default]",
   "language": "python",
   "name": "python3"
  },
  "language_info": {
   "codemirror_mode": {
    "name": "ipython",
    "version": 3
   },
   "file_extension": ".py",
   "mimetype": "text/x-python",
   "name": "python",
   "nbconvert_exporter": "python",
   "pygments_lexer": "ipython3",
   "version": "3.5.3"
  }
 },
 "nbformat": 4,
 "nbformat_minor": 2
}
