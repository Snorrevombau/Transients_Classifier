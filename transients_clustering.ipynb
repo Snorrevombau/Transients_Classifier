{
 "cells": [
  {
   "cell_type": "code",
   "execution_count": 42,
   "metadata": {
    "collapsed": true
   },
   "outputs": [],
   "source": [
    "%matplotlib inline\n",
    "import pandas as pd\n",
    "import glob\n",
    "import numpy as np\n",
    "from IPython.core.interactiveshell import InteractiveShell\n",
    "InteractiveShell.ast_node_interactivity = \"all\"\n",
    "import matplotlib.pyplot as plt\n",
    "%config InlineBackend.figure_format = 'retina'\n",
    "from IPython.display import Image\n",
    "from IPython.core.display import HTML "
   ]
  },
  {
   "cell_type": "code",
   "execution_count": 2,
   "metadata": {},
   "outputs": [
    {
     "name": "stdout",
     "output_type": "stream",
     "text": [
      "df_transients_charging_plugin_05 df_transients_charging_plugin_08\r\n",
      "df_transients_charging_plugin_06 df_transients_charging_plugin_09\r\n",
      "df_transients_charging_plugin_07\r\n"
     ]
    }
   ],
   "source": [
    "!ls Transients_with_charging_plugin_info_05_02_to_23_09/"
   ]
  },
  {
   "cell_type": "code",
   "execution_count": 3,
   "metadata": {
    "collapsed": true
   },
   "outputs": [],
   "source": [
    "def load_pkl(path):\n",
    "    filenames = glob.glob(path)\n",
    "\n",
    "    dfs = []\n",
    "    for filename in filenames:\n",
    "        dfs.append(pd.read_pickle(filename))\n",
    "    concat_df = pd.concat(dfs, ignore_index=True)\n",
    "    return concat_df"
   ]
  },
  {
   "cell_type": "code",
   "execution_count": 4,
   "metadata": {
    "collapsed": true
   },
   "outputs": [],
   "source": [
    "def convert_to_datetime(timestamp_as_str):\n",
    "    \"\"\"Convert a timestring as str to pandas timestring dtype\n",
    "\n",
    "    Args:\n",
    "        timestamp_as_str: Timestamp in string format\n",
    "\n",
    "    Returns:\n",
    "        A readable timestamp for pandas\n",
    "    \"\"\"\n",
    "    date, time, time_ns = timestamp_as_str.split('_')\n",
    "    return pd.to_datetime(date + ' ' + time + '.' + time_ns, dayfirst=True)"
   ]
  },
  {
   "cell_type": "code",
   "execution_count": 5,
   "metadata": {
    "collapsed": true
   },
   "outputs": [],
   "source": [
    "data = load_pkl('Transients_with_charging_plugin_info_05_02_to_23_09/*')\n",
    "data['begin_timestamp_string'] = data['begin_timestamp_string'].apply(convert_to_datetime)\n",
    "data = data.sort_values('begin_timestamp_string')\n",
    "data = data.drop(['filtered_signal', 'raw_signal_current', 'raw_signal_voltage', 'transient_rise_gradient'], axis=1)"
   ]
  },
  {
   "cell_type": "code",
   "execution_count": 43,
   "metadata": {
    "scrolled": false
   },
   "outputs": [
    {
     "data": {
      "text/html": [
       "<div>\n",
       "<style>\n",
       "    .dataframe thead tr:only-child th {\n",
       "        text-align: right;\n",
       "    }\n",
       "\n",
       "    .dataframe thead th {\n",
       "        text-align: left;\n",
       "    }\n",
       "\n",
       "    .dataframe tbody tr th {\n",
       "        vertical-align: top;\n",
       "    }\n",
       "</style>\n",
       "<table border=\"1\" class=\"dataframe\">\n",
       "  <thead>\n",
       "    <tr style=\"text-align: right;\">\n",
       "      <th></th>\n",
       "      <th>begin_timestamp_float_x</th>\n",
       "      <th>begin_index</th>\n",
       "      <th>begin_timestamp_string</th>\n",
       "      <th>phase_num</th>\n",
       "      <th>three_first_peaks</th>\n",
       "      <th>three_first_peaks_index</th>\n",
       "      <th>begin_timestamp_float_y</th>\n",
       "      <th>cars_total</th>\n",
       "      <th>one_phase</th>\n",
       "      <th>two_phases</th>\n",
       "      <th>...</th>\n",
       "      <th>cars_phase_1</th>\n",
       "      <th>cars_phase_2</th>\n",
       "      <th>cars_phase_3</th>\n",
       "      <th>plugin</th>\n",
       "      <th>plugin_phase_1</th>\n",
       "      <th>plugin_phase_2</th>\n",
       "      <th>plugin_phase_3</th>\n",
       "      <th>plugin_on_this_phase</th>\n",
       "      <th>cluster</th>\n",
       "      <th>max_peak</th>\n",
       "    </tr>\n",
       "  </thead>\n",
       "  <tbody>\n",
       "    <tr>\n",
       "      <th>0</th>\n",
       "      <td>1.493604e+09</td>\n",
       "      <td>5604</td>\n",
       "      <td>2017-05-01 04:06:52.114772</td>\n",
       "      <td>2</td>\n",
       "      <td>[25.251, 5.489, 2.660]</td>\n",
       "      <td>[5656, 5766, 5877]</td>\n",
       "      <td>1.493604e+09</td>\n",
       "      <td>0.0</td>\n",
       "      <td>0.0</td>\n",
       "      <td>0.0</td>\n",
       "      <td>...</td>\n",
       "      <td>0.0</td>\n",
       "      <td>0.0</td>\n",
       "      <td>0.0</td>\n",
       "      <td>False</td>\n",
       "      <td>False</td>\n",
       "      <td>False</td>\n",
       "      <td>False</td>\n",
       "      <td>NaN</td>\n",
       "      <td>1</td>\n",
       "      <td>25.251</td>\n",
       "    </tr>\n",
       "  </tbody>\n",
       "</table>\n",
       "<p>1 rows × 21 columns</p>\n",
       "</div>"
      ],
      "text/plain": [
       "   begin_timestamp_float_x  begin_index     begin_timestamp_string  phase_num  \\\n",
       "0             1.493604e+09         5604 2017-05-01 04:06:52.114772          2   \n",
       "\n",
       "        three_first_peaks three_first_peaks_index  begin_timestamp_float_y  \\\n",
       "0  [25.251, 5.489, 2.660]      [5656, 5766, 5877]             1.493604e+09   \n",
       "\n",
       "   cars_total  one_phase  two_phases    ...     cars_phase_1  cars_phase_2  \\\n",
       "0         0.0        0.0         0.0    ...              0.0           0.0   \n",
       "\n",
       "   cars_phase_3  plugin plugin_phase_1 plugin_phase_2 plugin_phase_3  \\\n",
       "0           0.0   False          False          False          False   \n",
       "\n",
       "  plugin_on_this_phase cluster  max_peak  \n",
       "0                  NaN       1    25.251  \n",
       "\n",
       "[1 rows x 21 columns]"
      ]
     },
     "execution_count": 43,
     "metadata": {},
     "output_type": "execute_result"
    }
   ],
   "source": [
    "data.head(1)"
   ]
  },
  {
   "cell_type": "code",
   "execution_count": 8,
   "metadata": {
    "scrolled": false
   },
   "outputs": [
    {
     "name": "stdout",
     "output_type": "stream",
     "text": [
      "<class 'pandas.core.frame.DataFrame'>\n",
      "Int64Index: 4474 entries, 0 to 2644\n",
      "Data columns (total 19 columns):\n",
      "begin_timestamp_float_x    4474 non-null float64\n",
      "begin_index                4474 non-null int64\n",
      "begin_timestamp_string     4474 non-null datetime64[ns]\n",
      "phase_num                  4474 non-null int64\n",
      "three_first_peaks          4474 non-null object\n",
      "three_first_peaks_index    4474 non-null object\n",
      "begin_timestamp_float_y    4474 non-null float64\n",
      "cars_total                 4474 non-null float64\n",
      "one_phase                  4474 non-null float64\n",
      "two_phases                 4474 non-null float64\n",
      "three_phases               4474 non-null float64\n",
      "cars_phase_1               4474 non-null float64\n",
      "cars_phase_2               4474 non-null float64\n",
      "cars_phase_3               4474 non-null float64\n",
      "plugin                     4474 non-null object\n",
      "plugin_phase_1             4474 non-null object\n",
      "plugin_phase_2             4474 non-null object\n",
      "plugin_phase_3             4474 non-null object\n",
      "plugin_on_this_phase       697 non-null object\n",
      "dtypes: datetime64[ns](1), float64(9), int64(2), object(7)\n",
      "memory usage: 699.1+ KB\n"
     ]
    }
   ],
   "source": [
    "data.info()"
   ]
  },
  {
   "cell_type": "markdown",
   "metadata": {},
   "source": [
    "# Clustering"
   ]
  },
  {
   "cell_type": "markdown",
   "metadata": {},
   "source": [
    "Beschreibung der Cluster:\n",
    "\n",
    "1: Transiente wenn kein Auto lädt oder angeschlossen wird\n",
    "\n",
    "2: Transienten die während des Ladevorgangsauftreten, aber kein Plugin Event sind\n",
    "\n",
    "3: Transienten die durch ein Plugin Event ausgelöst werden, dabei hat zuvor kein Auto geladen\n",
    "\n",
    "4: Transienten die durch ein Plugin Event ausgelöst werden, allerdings mit zuvor geladenem Auto"
   ]
  },
  {
   "cell_type": "code",
   "execution_count": 9,
   "metadata": {
    "collapsed": true
   },
   "outputs": [],
   "source": [
    "def clustering_transients(row):\n",
    "    if((row['cars_total'] == 0) & (not row['plugin'])):\n",
    "        return 1\n",
    "    else:\n",
    "        if not (row['plugin']):\n",
    "            return 2\n",
    "        else:\n",
    "            if(row['cars_total'] == 0):\n",
    "                return 3\n",
    "            else:\n",
    "                return 4"
   ]
  },
  {
   "cell_type": "code",
   "execution_count": 10,
   "metadata": {
    "scrolled": false
   },
   "outputs": [
    {
     "name": "stdout",
     "output_type": "stream",
     "text": [
      "436 ms ± 14.6 ms per loop (mean ± std. dev. of 7 runs, 1 loop each)\n"
     ]
    }
   ],
   "source": [
    "%%timeit\n",
    "data['cluster'] = data.apply(clustering_transients, axis=1)"
   ]
  },
  {
   "cell_type": "code",
   "execution_count": 12,
   "metadata": {
    "collapsed": true
   },
   "outputs": [],
   "source": [
    "data.to_pickle('clustering_transients.plk')"
   ]
  },
  {
   "cell_type": "markdown",
   "metadata": {
    "collapsed": true
   },
   "source": [
    "# Einleitung\n",
    "Für die Transientenanalyse werden Daten von Mai bis September untersucht. In diesem Transientendatensatz sind 4474 Events enthalten. Zunächst soll untersucht werden wie sich die Transienten verhalten, wenn ein Auto angeschlossen und wenn keins angeschlossen ist. \n",
    "\n",
    "## Hypothese 1\n",
    "Wenn ein Auto zum Laden angeschlossen wird tretten stärkere und mehr Transienten auf."
   ]
  },
  {
   "cell_type": "code",
   "execution_count": 15,
   "metadata": {
    "collapsed": true
   },
   "outputs": [],
   "source": [
    "data['max_peak'] = data['three_first_peaks'].apply(lambda x: np.array(list(map(float, x))).max())"
   ]
  },
  {
   "cell_type": "code",
   "execution_count": 35,
   "metadata": {},
   "outputs": [],
   "source": [
    "plot_data = data[data['max_peak'] < 120]"
   ]
  },
  {
   "cell_type": "code",
   "execution_count": 40,
   "metadata": {
    "scrolled": false
   },
   "outputs": [
    {
     "data": {
      "image/png": "[encoded data removed]",
      "text/plain": [
       "<matplotlib.figure.Figure at 0x119700780>"
      ]
     },
     "metadata": {
      "image/png": {
       "height": 588,
       "width": 1168
      }
     },
     "output_type": "display_data"
    }
   ],
   "source": [
    "import seaborn as sns\n",
    "sns.set(style=\"whitegrid\")\n",
    "fig, ax = plt.subplots(figsize=(20,10))\n",
    "sns.boxplot(ax = ax, x=\"cluster\", y=\"max_peak\", data=plot_data);"
   ]
  },
  {
   "cell_type": "markdown",
   "metadata": {},
   "source": [
    "![Image](https://upload.wikimedia.org/wikipedia/commons/b/b1/Elements_of_a_boxplot.svg)"
   ]
  }
 ],
 "metadata": {
  "kernelspec": {
   "display_name": "Python [conda env:ev_project]",
   "language": "python",
   "name": "conda-env-ev_project-py"
  },
  "language_info": {
   "codemirror_mode": {
    "name": "ipython",
    "version": 3
   },
   "file_extension": ".py",
   "mimetype": "text/x-python",
   "name": "python",
   "nbconvert_exporter": "python",
   "pygments_lexer": "ipython3",
   "version": "3.5.3"
  }
 },
 "nbformat": 4,
 "nbformat_minor": 2
}
