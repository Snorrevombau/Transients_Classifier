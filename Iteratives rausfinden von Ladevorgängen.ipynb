{
 "cells": [
  {
   "cell_type": "code",
   "execution_count": 44,
   "metadata": {},
   "outputs": [],
   "source": [
    "import pandas as pd\n",
    "import numpy as np\n",
    "import progressbar\n",
    "import matplotlib.pyplot as plt\n",
    "from IMPORT_DATAFRAME_JSON_HDF5 import *\n",
    "%matplotlib notebook\n",
    "import os\n"
   ]
  },
  {
   "cell_type": "code",
   "execution_count": 106,
   "metadata": {
    "scrolled": true
   },
   "outputs": [
    {
     "name": "stdout",
     "output_type": "stream",
     "text": [
      "0.566908563135\n",
      "0.664326573063\n",
      "0.297942386831\n"
     ]
    }
   ],
   "source": [
    "Phase_2 = pd.read_csv('power_today_minute_2.csv', names = ['timestamp','P'])\n",
    "Phase_2_mit_delta = Phase_2\n",
    "Phase_2_mit_delta['P_delta'] = 0\n",
    "Event_df = pd.DataFrame(columns = ['timestamp','minuten_index' ,'Ladevorgang', 'Status', 'Ladeleistung'])\n",
    "\n",
    "for row in range(1,len(Phase_2)):\n",
    "    # daten import\n",
    "    Timestamp = Phase_2.iloc[row]['timestamp']\n",
    "    minuten_index = row\n",
    "    P_new = Phase_2.iloc[row]['P']\n",
    "    P_old = Phase_2.iloc[row-1]['P']\n",
    "    P_delta = P_new-P_old\n",
    "    Phase_2_mit_delta.loc[row, 'P_delta'] = P_delta\n",
    "    \n",
    "    # ist delta P relevant\n",
    "    if(abs(P_delta) > 50.0):\n",
    "        # Prüfen ob Ladenvorgang beginnt/beendet\n",
    "        if(P_delta > 100.0):\n",
    "            Event_df.loc[len(Event_df)]= [Timestamp, minuten_index, 'ein', 'not checked', 'nan']\n",
    "            #Event_df.append(df, ignore_index=True)\n",
    "        else:\n",
    "            None\n",
    "        \n",
    "    #Check events\n",
    "    for row_event in range(0,len(Event_df)):\n",
    "        #condition to check event\n",
    "        minuten_index_event = Event_df.iloc[row_event]['minuten_index'] \n",
    "        if (minuten_index_event+3 == minuten_index):\n",
    "            Ladeleistung = Phase_2.iloc[minuten_index_event+3]['P'] - Phase_2.iloc[minuten_index_event-3]['P'] \n",
    "            sum_delta_P = Phase_2_mit_delta[minuten_index_event:minuten_index_event+3]['P_delta'].sum()\n",
    "            deviation = abs(Ladeleistung-sum_delta_P)/Ladeleistung \n",
    "            if abs(Ladeleistung-sum_delta_P)/Ladeleistung >0.01:\n",
    "                print(deviation)\n",
    "                Event_df = Event_df.drop(row_event)\n",
    "            else:\n",
    "                Event_df.loc[row_event, ['Status', 'Ladeleistung']] = ['checked', Ladeleistung]"
   ]
  },
  {
   "cell_type": "code",
   "execution_count": 107,
   "metadata": {
    "scrolled": false
   },
   "outputs": [
    {
     "data": {
      "text/html": [
       "<div>\n",
       "<style>\n",
       "    .dataframe thead tr:only-child th {\n",
       "        text-align: right;\n",
       "    }\n",
       "\n",
       "    .dataframe thead th {\n",
       "        text-align: left;\n",
       "    }\n",
       "\n",
       "    .dataframe tbody tr th {\n",
       "        vertical-align: top;\n",
       "    }\n",
       "</style>\n",
       "<table border=\"1\" class=\"dataframe\">\n",
       "  <thead>\n",
       "    <tr style=\"text-align: right;\">\n",
       "      <th></th>\n",
       "      <th>timestamp</th>\n",
       "      <th>minuten_index</th>\n",
       "      <th>Ladevorgang</th>\n",
       "      <th>Status</th>\n",
       "      <th>Ladeleistung</th>\n",
       "    </tr>\n",
       "  </thead>\n",
       "  <tbody>\n",
       "    <tr>\n",
       "      <th>0</th>\n",
       "      <td>1.505279e+09</td>\n",
       "      <td>430</td>\n",
       "      <td>ein</td>\n",
       "      <td>checked</td>\n",
       "      <td>3442</td>\n",
       "    </tr>\n",
       "    <tr>\n",
       "      <th>1</th>\n",
       "      <td>1.505287e+09</td>\n",
       "      <td>557</td>\n",
       "      <td>ein</td>\n",
       "      <td>checked</td>\n",
       "      <td>3846</td>\n",
       "    </tr>\n",
       "    <tr>\n",
       "      <th>2</th>\n",
       "      <td>1.505291e+09</td>\n",
       "      <td>628</td>\n",
       "      <td>ein</td>\n",
       "      <td>checked</td>\n",
       "      <td>3642</td>\n",
       "    </tr>\n",
       "  </tbody>\n",
       "</table>\n",
       "</div>"
      ],
      "text/plain": [
       "      timestamp minuten_index Ladevorgang   Status Ladeleistung\n",
       "0  1.505279e+09           430         ein  checked         3442\n",
       "1  1.505287e+09           557         ein  checked         3846\n",
       "2  1.505291e+09           628         ein  checked         3642"
      ]
     },
     "execution_count": 107,
     "metadata": {},
     "output_type": "execute_result"
    }
   ],
   "source": [
    "Event_df"
   ]
  },
  {
   "cell_type": "code",
   "execution_count": 84,
   "metadata": {},
   "outputs": [],
   "source": [
    "Phase_2_mit_delta.to_csv('test.csv')"
   ]
  },
  {
   "cell_type": "code",
   "execution_count": null,
   "metadata": {
    "collapsed": true
   },
   "outputs": [],
   "source": []
  }
 ],
 "metadata": {
  "kernelspec": {
   "display_name": "Python [default]",
   "language": "python",
   "name": "python3"
  },
  "language_info": {
   "codemirror_mode": {
    "name": "ipython",
    "version": 3
   },
   "file_extension": ".py",
   "mimetype": "text/x-python",
   "name": "python",
   "nbconvert_exporter": "python",
   "pygments_lexer": "ipython3",
   "version": "3.5.3"
  }
 },
 "nbformat": 4,
 "nbformat_minor": 2
}
