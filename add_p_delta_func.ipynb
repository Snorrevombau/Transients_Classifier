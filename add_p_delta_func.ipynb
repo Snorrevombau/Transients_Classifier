{
 "cells": [
  {
   "cell_type": "markdown",
   "metadata": {},
   "source": [
    "# Pseudocode zur Implementierung"
   ]
  },
  {
   "cell_type": "code",
   "execution_count": 11,
   "metadata": {
    "collapsed": true
   },
   "outputs": [],
   "source": [
    "import pandas as pd\n",
    "import numpy as np\n",
    "from IPython.display import display, HTML"
   ]
  },
  {
   "cell_type": "code",
   "execution_count": 12,
   "metadata": {
    "collapsed": true
   },
   "outputs": [],
   "source": [
    "# dieser Test-df wird von Christophs Programm erzeugt.\n",
    "# wichtig!!! Bei der Besprechung müssen wir P_delta als NaN Value in den Datenframe einfügen\n",
    "P_Phase = pd.read_csv('power_today_minute_1.csv', names = ['timestamp','P', 'P_delta'])\n",
    "\n",
    "#Event dataframe anlegen zur späteren Auswertung der An/Abschaltevents\n",
    "Event_df = pd.DataFrame(columns = ['timestamp','Phase','minuten_index',\n",
    "                                   'Ladevorgang', 'Status', 'Ladeleistung',\n",
    "                                   'minuten_index_Abschaltung','timestamp_abschalt'])\n",
    "Leerlaufleistung_Phase = 120"
   ]
  },
  {
   "cell_type": "markdown",
   "metadata": {},
   "source": [
    "## Funktion\n",
    "-------"
   ]
  },
  {
   "cell_type": "code",
   "execution_count": 13,
   "metadata": {
    "collapsed": true
   },
   "outputs": [],
   "source": [
    "def add_p_delta(df):\n",
    "    df_length = len(df)\n",
    "    index_last_row = df_length - 1\n",
    "    if(df_length > 1):\n",
    "        p_new = df.iloc[index_last_row]['P']\n",
    "        p_old = df.iloc[index_last_row-1]['P']\n",
    "        p_delta = p_new - p_old\n",
    "        return p_delta\n",
    "    else:\n",
    "        return 0"
   ]
  },
  {
   "cell_type": "code",
   "execution_count": 14,
   "metadata": {
    "collapsed": true
   },
   "outputs": [],
   "source": [
    "def detect_switch_event(rows, phase, Event_df):\n",
    "    minuten_index = rows.index[-1]\n",
    "    timestamp = rows.iloc[-1]['timestamp']\n",
    "    ### Einschaltvorgang dedektieren ###\n",
    "    # ist delta P relevant\n",
    "    if(rows.iloc[-1]['P_delta'] > 400):\n",
    "        # Prüfen ob Ladenvorgang beginnt/beendet\n",
    "        # Wenn delta P positiv ---> event kreieren um später zu checken ob es ein Einschaltvorgang war\n",
    "        Event_df.loc[len(Event_df)]= [timestamp, phase, minuten_index, 'ein', 'not checked', 0,0,0]\n",
    "    \n",
    "    #Check events: Überprüfen ob vorher eingetragenes event wirklich ein Einschaltvorgang ist\n",
    "    event_df_length = len(Event_df)\n",
    "    row_event = 0\n",
    "    while row_event < event_df_length:\n",
    "            #condition to check event\n",
    "            minuten_index_event = Event_df.iloc[row_event]['minuten_index']\n",
    "            #Check auf Einschaltvorgang\n",
    "            if ((minuten_index_event+3 == minuten_index) & \n",
    "                (Event_df.iloc[row_event]['Ladevorgang'] == 'ein') &\n",
    "                (Event_df.iloc[row_event]['Phase'] == phase)):\n",
    "                #display(Event_df)\n",
    "                #display(rows)\n",
    "                Ladeleistung = rows.loc[minuten_index_event+3]['P'] - rows.loc[minuten_index_event-3]['P']            \n",
    "                sum_delta_P = rows.loc[minuten_index_event:minuten_index_event+3]['P_delta'].sum()\n",
    "                deviation = abs(Ladeleistung-sum_delta_P)/Ladeleistung \n",
    "                #print('Minute' + str(row))\n",
    "                #print(Event_df)\n",
    "                #print('Ladeleistung: ' + str(Ladeleistung))\n",
    "                #print('sum_delta_P: ' + str(sum_delta_P))\n",
    "                #print('deviation' + str(deviation))\n",
    "                #display(Event_df)\n",
    "                if ((deviation > 0.15) | (Ladeleistung < 1500)):\n",
    "                    Event_df = Event_df.drop(row_event)\n",
    "                    Event_df = Event_df.reset_index(drop=True)\n",
    "                else:\n",
    "                    Event_df.loc[row_event, ['Status', 'Ladeleistung']] = ['checked', Ladeleistung]\n",
    "            event_df_length = len(Event_df)\n",
    "            row_event += 1\n",
    "         \n",
    "    ### Ausschaltvorgang dedektieren ###\n",
    "    #Checken ob aktuelle Leistung das Ende eines Einschaltvorgangs impliziert        \n",
    "    if (('ein' in Event_df['Ladevorgang'].unique()) &\n",
    "        ('checked' in Event_df['Status'].unique())):\n",
    "        # create df with charging status on\n",
    "        only_load_event_df = Event_df[(Event_df['Ladevorgang'] == 'ein') &\n",
    "                                      (Event_df['minuten_index'] < minuten_index)]\n",
    "        # Soll Leistung = Leistung die auf der Phase anliegen sollte,\n",
    "        # wenn alle zuvor ladenden Autos noch an der Phase hängen würden\n",
    "        Soll_Leistung = Leerlaufleistung_Phase + Event_df[(Event_df['Ladevorgang']=='ein') & \n",
    "                                                          (Event_df['minuten_index'] <= minuten_index) & \n",
    "                                                          (Event_df['minuten_index_Abschaltung'] == 0) & \n",
    "                                                          (Event_df['Phase'] == phase)]['Ladeleistung'].sum()\n",
    "        #Aktuelle Leistung (neuer Messwert)\n",
    "        Ist_Leistung = rows.iloc[-1]['P']\n",
    "        #Residuale Leistung \n",
    "        P_residual = Soll_Leistung - Ist_Leistung\n",
    "        #Überprüfen ob fehlende Leistung (P_residual) zu einem zuvor ladenden Auto passt\n",
    "        only_load_event_df['deviation_P'] = only_load_event_df['Ladeleistung']. \\\n",
    "                                    apply(lambda ladeleistung_auto: abs(ladeleistung_auto-P_residual)/ladeleistung_auto)\n",
    "        if ((only_load_event_df['deviation_P'] < 0.03).any()):\n",
    "            # sort load events by size\n",
    "            # und nehme das erste Event, was der aktuellen leistung am nächsten ist\n",
    "            charg_off_ev_index = only_load_event_df['deviation_P'].sort_values().index[0]\n",
    "            Event_df.loc[charg_off_ev_index,['minuten_index_Abschaltung']] = minuten_index\n",
    "            Event_df.loc[charg_off_ev_index,['timestamp_abschalt']] = timestamp\n",
    "            Event_df.loc[charg_off_ev_index, ['Ladevorgang']] = 'aus'\n",
    "     \n",
    "    return Event_df"
   ]
  },
  {
   "cell_type": "markdown",
   "metadata": {},
   "source": [
    "## Code Simulation auf dem Server\n",
    "----\n",
    "Hier kann der Code für eine Phase Simuliert werden"
   ]
  },
  {
   "cell_type": "code",
   "execution_count": 16,
   "metadata": {
    "scrolled": false
   },
   "outputs": [
    {
     "name": "stderr",
     "output_type": "stream",
     "text": [
      "/Users/markus/anaconda/envs/ev_project/lib/python3.5/site-packages/ipykernel/__main__.py:58: SettingWithCopyWarning: \n",
      "A value is trying to be set on a copy of a slice from a DataFrame.\n",
      "Try using .loc[row_indexer,col_indexer] = value instead\n",
      "\n",
      "See the caveats in the documentation: http://pandas.pydata.org/pandas-docs/stable/indexing.html#indexing-view-versus-copy\n"
     ]
    },
    {
     "name": "stdout",
     "output_type": "stream",
     "text": [
      "CPU times: user 10.5 s, sys: 31.3 ms, total: 10.5 s\n",
      "Wall time: 10.5 s\n"
     ]
    }
   ],
   "source": [
    "%%time\n",
    "\n",
    "pseudocode_df = pd.DataFrame([])\n",
    "phasen_variable = 1\n",
    "\n",
    "for row in range(0, len(P_Phase)):\n",
    "    pseudocode_df = pseudocode_df.append(P_Phase[row:row+1])\n",
    "    #print('----------Zeile {} ----------'.format(row))\n",
    "    #print('Eingehender Dataframe:')\n",
    "    #display(pseudocode_df)\n",
    "    \n",
    "    # call the function to add P-delta\n",
    "    pseudocode_df.iloc[-1, pseudocode_df.columns.get_loc('P_delta')] = add_p_delta(pseudocode_df[-2:])\n",
    "    # Detect all switch events\n",
    "    Event_df = detect_switch_event(pseudocode_df.iloc[-7:], 2, Event_df)\n",
    "    '''\n",
    "    Hier wird soll die Funktion Ein-/ Ausschaltvorgang implementiert werden,\n",
    "    die unseren Event_df erzeugt.\n",
    "    '''\n",
    "   \n",
    "    #print('Dataframe mit P_delta:')\n",
    "    #display(pseudocode_df)\n",
    "    #print()\n",
    "    #print()"
   ]
  },
  {
   "cell_type": "code",
   "execution_count": null,
   "metadata": {
    "collapsed": true
   },
   "outputs": [],
   "source": []
  }
 ],
 "metadata": {
  "kernelspec": {
   "display_name": "Python [conda env:ev_project]",
   "language": "python",
   "name": "conda-env-ev_project-py"
  },
  "language_info": {
   "codemirror_mode": {
    "name": "ipython",
    "version": 3
   },
   "file_extension": ".py",
   "mimetype": "text/x-python",
   "name": "python",
   "nbconvert_exporter": "python",
   "pygments_lexer": "ipython3",
   "version": "3.5.3"
  }
 },
 "nbformat": 4,
 "nbformat_minor": 2
}
