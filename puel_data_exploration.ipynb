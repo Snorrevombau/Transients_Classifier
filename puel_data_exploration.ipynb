{
 "cells": [
  {
   "cell_type": "markdown",
   "metadata": {},
   "source": [
    "# EV Clustering"
   ]
  },
  {
   "cell_type": "code",
   "execution_count": 1,
   "metadata": {
    "collapsed": true
   },
   "outputs": [],
   "source": [
    "import pandas as pd\n",
    "import numpy as np\n",
    "from IMPORT_DATAFRAME_JSON_HDF5 import *"
   ]
  },
  {
   "cell_type": "code",
   "execution_count": 2,
   "metadata": {
    "collapsed": true
   },
   "outputs": [],
   "source": [
    "%config InlineBackend.figure_format = 'retina'"
   ]
  },
  {
   "cell_type": "markdown",
   "metadata": {},
   "source": [
    "## Import jsons/hdf5"
   ]
  },
  {
   "cell_type": "code",
   "execution_count": 3,
   "metadata": {
    "scrolled": true
   },
   "outputs": [
    {
     "name": "stderr",
     "output_type": "stream",
     "text": [
      "100% (1370 of 1370) |#####################| Elapsed Time: 0:00:17 Time: 0:00:17\n",
      "100% (1882 of 1882) |#####################| Elapsed Time: 0:05:11 Time: 0:05:11\n"
     ]
    }
   ],
   "source": [
    "data = import_trasient_from_file(\"jsons/\")\n",
    "data = map_transients_to_PQ_data(data, \"HDF5\", 20, ['P'])"
   ]
  },
  {
   "cell_type": "markdown",
   "metadata": {},
   "source": [
    "## Explore the data"
   ]
  },
  {
   "cell_type": "markdown",
   "metadata": {},
   "source": [
    "This chapter should give a overview of the used dataset. Therefore step one is to study the header of the dataset. Here the column *'begin_timestamp_float'* can be used as a index, make our're events easier to find and to compare with other data sources. "
   ]
  },
  {
   "cell_type": "code",
   "execution_count": 4,
   "metadata": {
    "scrolled": true
   },
   "outputs": [
    {
     "name": "stdout",
     "output_type": "stream",
     "text": [
      "Number of data points: 1882\n"
     ]
    },
    {
     "data": {
      "text/html": [
       "<div>\n",
       "<style>\n",
       "    .dataframe thead tr:only-child th {\n",
       "        text-align: right;\n",
       "    }\n",
       "\n",
       "    .dataframe thead th {\n",
       "        text-align: left;\n",
       "    }\n",
       "\n",
       "    .dataframe tbody tr th {\n",
       "        vertical-align: top;\n",
       "    }\n",
       "</style>\n",
       "<table border=\"1\" class=\"dataframe\">\n",
       "  <thead>\n",
       "    <tr style=\"text-align: right;\">\n",
       "      <th></th>\n",
       "      <th>begin_index</th>\n",
       "      <th>begin_timestamp_string</th>\n",
       "      <th>filtered_signal</th>\n",
       "      <th>phase_num</th>\n",
       "      <th>raw_signal_current</th>\n",
       "      <th>raw_signal_voltage</th>\n",
       "      <th>three_first_peaks</th>\n",
       "      <th>three_first_peaks_index</th>\n",
       "      <th>transient_rise_gradient</th>\n",
       "      <th>P</th>\n",
       "    </tr>\n",
       "    <tr>\n",
       "      <th>begin_timestamp_float</th>\n",
       "      <th></th>\n",
       "      <th></th>\n",
       "      <th></th>\n",
       "      <th></th>\n",
       "      <th></th>\n",
       "      <th></th>\n",
       "      <th></th>\n",
       "      <th></th>\n",
       "      <th></th>\n",
       "      <th></th>\n",
       "    </tr>\n",
       "  </thead>\n",
       "  <tbody>\n",
       "    <tr>\n",
       "      <th>1.491027e+09</th>\n",
       "      <td>701</td>\n",
       "      <td>01-04-2017_08:01:41_529732</td>\n",
       "      <td>[7.9862e-06, 0.0259479208, -0.0389019368, 7.97...</td>\n",
       "      <td>2</td>\n",
       "      <td>[0.6561279297, 0.7019042969, 0.7629394531, 0.7...</td>\n",
       "      <td>[289.647277832, 289.6991882324, 289.8029785156...</td>\n",
       "      <td>[26.198, 4.360, 2.076]</td>\n",
       "      <td>[754, 884, 1015]</td>\n",
       "      <td>245806.997513</td>\n",
       "      <td>[105.77301788330078, 104.60313415527344, 105.3...</td>\n",
       "    </tr>\n",
       "  </tbody>\n",
       "</table>\n",
       "</div>"
      ],
      "text/plain": [
       "                       begin_index      begin_timestamp_string  \\\n",
       "begin_timestamp_float                                            \n",
       "1.491027e+09                   701  01-04-2017_08:01:41_529732   \n",
       "\n",
       "                                                         filtered_signal  \\\n",
       "begin_timestamp_float                                                      \n",
       "1.491027e+09           [7.9862e-06, 0.0259479208, -0.0389019368, 7.97...   \n",
       "\n",
       "                       phase_num  \\\n",
       "begin_timestamp_float              \n",
       "1.491027e+09                   2   \n",
       "\n",
       "                                                      raw_signal_current  \\\n",
       "begin_timestamp_float                                                      \n",
       "1.491027e+09           [0.6561279297, 0.7019042969, 0.7629394531, 0.7...   \n",
       "\n",
       "                                                      raw_signal_voltage  \\\n",
       "begin_timestamp_float                                                      \n",
       "1.491027e+09           [289.647277832, 289.6991882324, 289.8029785156...   \n",
       "\n",
       "                            three_first_peaks three_first_peaks_index  \\\n",
       "begin_timestamp_float                                                   \n",
       "1.491027e+09           [26.198, 4.360, 2.076]        [754, 884, 1015]   \n",
       "\n",
       "                       transient_rise_gradient  \\\n",
       "begin_timestamp_float                            \n",
       "1.491027e+09                     245806.997513   \n",
       "\n",
       "                                                                       P  \n",
       "begin_timestamp_float                                                     \n",
       "1.491027e+09           [105.77301788330078, 104.60313415527344, 105.3...  "
      ]
     },
     "execution_count": 4,
     "metadata": {},
     "output_type": "execute_result"
    }
   ],
   "source": [
    "length = len(data)\n",
    "print(\"Number of data points: {}\".format(length))\n",
    "data.head(1)"
   ]
  },
  {
   "cell_type": "code",
   "execution_count": 5,
   "metadata": {},
   "outputs": [
    {
     "data": {
      "text/plain": [
       "1370"
      ]
     },
     "execution_count": 5,
     "metadata": {},
     "output_type": "execute_result"
    }
   ],
   "source": [
    "transient_overview = pd.read_csv('transientlist.csv', sep=',', header=None)\n",
    "transient_overview[0] = transient_overview[0].apply(convert_to_datetime)\n",
    "len(transient_overview)\n",
    "\n",
    "# output: 1370"
   ]
  },
  {
   "cell_type": "code",
   "execution_count": 6,
   "metadata": {
    "scrolled": false
   },
   "outputs": [
    {
     "data": {
      "text/html": [
       "<div>\n",
       "<style>\n",
       "    .dataframe thead tr:only-child th {\n",
       "        text-align: right;\n",
       "    }\n",
       "\n",
       "    .dataframe thead th {\n",
       "        text-align: left;\n",
       "    }\n",
       "\n",
       "    .dataframe tbody tr th {\n",
       "        vertical-align: top;\n",
       "    }\n",
       "</style>\n",
       "<table border=\"1\" class=\"dataframe\">\n",
       "  <thead>\n",
       "    <tr style=\"text-align: right;\">\n",
       "      <th></th>\n",
       "      <th>0</th>\n",
       "      <th>1</th>\n",
       "      <th>2</th>\n",
       "      <th>3</th>\n",
       "    </tr>\n",
       "  </thead>\n",
       "  <tbody>\n",
       "    <tr>\n",
       "      <th>733</th>\n",
       "      <td>2017-01-04 08:01:41.528330</td>\n",
       "      <td>7681</td>\n",
       "      <td>[2]</td>\n",
       "      <td>26.198</td>\n",
       "    </tr>\n",
       "  </tbody>\n",
       "</table>\n",
       "</div>"
      ],
      "text/plain": [
       "                             0     1    2       3\n",
       "733 2017-01-04 08:01:41.528330  7681  [2]  26.198"
      ]
     },
     "execution_count": 6,
     "metadata": {},
     "output_type": "execute_result"
    }
   ],
   "source": [
    "transient_overview.sort_values(0).head(1)"
   ]
  },
  {
   "cell_type": "code",
   "execution_count": 7,
   "metadata": {
    "scrolled": false
   },
   "outputs": [
    {
     "data": {
      "text/html": [
       "<div>\n",
       "<style>\n",
       "    .dataframe thead tr:only-child th {\n",
       "        text-align: right;\n",
       "    }\n",
       "\n",
       "    .dataframe thead th {\n",
       "        text-align: left;\n",
       "    }\n",
       "\n",
       "    .dataframe tbody tr th {\n",
       "        vertical-align: top;\n",
       "    }\n",
       "</style>\n",
       "<table border=\"1\" class=\"dataframe\">\n",
       "  <thead>\n",
       "    <tr style=\"text-align: right;\">\n",
       "      <th></th>\n",
       "      <th>begin_index</th>\n",
       "      <th>begin_timestamp_string</th>\n",
       "      <th>filtered_signal</th>\n",
       "      <th>phase_num</th>\n",
       "      <th>raw_signal_current</th>\n",
       "      <th>raw_signal_voltage</th>\n",
       "      <th>three_first_peaks</th>\n",
       "      <th>three_first_peaks_index</th>\n",
       "      <th>transient_rise_gradient</th>\n",
       "      <th>P</th>\n",
       "    </tr>\n",
       "    <tr>\n",
       "      <th>begin_timestamp_float</th>\n",
       "      <th></th>\n",
       "      <th></th>\n",
       "      <th></th>\n",
       "      <th></th>\n",
       "      <th></th>\n",
       "      <th></th>\n",
       "      <th></th>\n",
       "      <th></th>\n",
       "      <th></th>\n",
       "      <th></th>\n",
       "    </tr>\n",
       "  </thead>\n",
       "  <tbody>\n",
       "    <tr>\n",
       "      <th>1.491027e+09</th>\n",
       "      <td>701</td>\n",
       "      <td>01-04-2017_08:01:41_529732</td>\n",
       "      <td>[7.9862e-06, 0.0259479208, -0.0389019368, 7.97...</td>\n",
       "      <td>2</td>\n",
       "      <td>[0.6561279297, 0.7019042969, 0.7629394531, 0.7...</td>\n",
       "      <td>[289.647277832, 289.6991882324, 289.8029785156...</td>\n",
       "      <td>[26.198, 4.360, 2.076]</td>\n",
       "      <td>[754, 884, 1015]</td>\n",
       "      <td>245806.997513</td>\n",
       "      <td>[105.77301788330078, 104.60313415527344, 105.3...</td>\n",
       "    </tr>\n",
       "  </tbody>\n",
       "</table>\n",
       "</div>"
      ],
      "text/plain": [
       "                       begin_index      begin_timestamp_string  \\\n",
       "begin_timestamp_float                                            \n",
       "1.491027e+09                   701  01-04-2017_08:01:41_529732   \n",
       "\n",
       "                                                         filtered_signal  \\\n",
       "begin_timestamp_float                                                      \n",
       "1.491027e+09           [7.9862e-06, 0.0259479208, -0.0389019368, 7.97...   \n",
       "\n",
       "                       phase_num  \\\n",
       "begin_timestamp_float              \n",
       "1.491027e+09                   2   \n",
       "\n",
       "                                                      raw_signal_current  \\\n",
       "begin_timestamp_float                                                      \n",
       "1.491027e+09           [0.6561279297, 0.7019042969, 0.7629394531, 0.7...   \n",
       "\n",
       "                                                      raw_signal_voltage  \\\n",
       "begin_timestamp_float                                                      \n",
       "1.491027e+09           [289.647277832, 289.6991882324, 289.8029785156...   \n",
       "\n",
       "                            three_first_peaks three_first_peaks_index  \\\n",
       "begin_timestamp_float                                                   \n",
       "1.491027e+09           [26.198, 4.360, 2.076]        [754, 884, 1015]   \n",
       "\n",
       "                       transient_rise_gradient  \\\n",
       "begin_timestamp_float                            \n",
       "1.491027e+09                     245806.997513   \n",
       "\n",
       "                                                                       P  \n",
       "begin_timestamp_float                                                     \n",
       "1.491027e+09           [105.77301788330078, 104.60313415527344, 105.3...  "
      ]
     },
     "execution_count": 7,
     "metadata": {},
     "output_type": "execute_result"
    }
   ],
   "source": [
    "data.sort_values('begin_timestamp_string').head(1)"
   ]
  },
  {
   "cell_type": "markdown",
   "metadata": {},
   "source": [
    "## Preprossing Data Seb"
   ]
  },
  {
   "cell_type": "code",
   "execution_count": 8,
   "metadata": {
    "collapsed": true,
    "scrolled": true
   },
   "outputs": [],
   "source": [
    "#for a in range(0, len(data)):\n",
    "#    plt.plot(data.iloc[a]['P'])\n",
    "    \n",
    "\n",
    "data['charging_status']=0\n",
    "data['P_mean']=0\n",
    "data['P_delta'] = 0\n",
    "data['P_Plugin']=0\n",
    "data['P_Unplug'] = 0\n",
    "for row in range(0, len(data)):\n",
    "    # Getting the mean power before during and after the timestamp (-T, T)\n",
    "    # Defining charging_status as 1 for avg(P)>300W else 0 and writing it to a new column\n",
    "    P_mean = sum(data.iloc[row]['P']) / float(len(data.iloc[row]['P']))\n",
    "    data.set_value(data.index[row],'P_mean', P_mean)\n",
    "    if P_mean>300:\n",
    "        data.set_value(data.index[row],'charging_status',int(1))\n",
    "    else:\n",
    "       data.set_value(data.index[row],'charging_status', int(0))\n",
    "     # Defining if a new car is plugged in during the appearance of the transient\n",
    "    P_mean_before = sum((data.iloc[row]['P'])[:10]) / float(len((data.iloc[row]['P'])[:10])) \n",
    "    P_mean_after = sum((data.iloc[row]['P'])[(len(data.iloc[row]['P'])-10):]) / float(len((data.iloc[row]['P'])[(len(data.iloc[row]['P'])-10):])) \n",
    "    P_delta = P_mean_after - P_mean_before\n",
    "    data.set_value(data.index[row],'P_delta',P_delta)\n",
    "    if P_delta > 2000:\n",
    "        data.set_value(data.index[row],'P_Plugin',int(1))\n",
    "    elif P_delta < -2000:\n",
    "        data.set_value(data.index[row],'P_Unplug',int(1))"
   ]
  },
  {
   "cell_type": "code",
   "execution_count": 9,
   "metadata": {
    "scrolled": true
   },
   "outputs": [
    {
     "data": {
      "text/html": [
       "<div>\n",
       "<style>\n",
       "    .dataframe thead tr:only-child th {\n",
       "        text-align: right;\n",
       "    }\n",
       "\n",
       "    .dataframe thead th {\n",
       "        text-align: left;\n",
       "    }\n",
       "\n",
       "    .dataframe tbody tr th {\n",
       "        vertical-align: top;\n",
       "    }\n",
       "</style>\n",
       "<table border=\"1\" class=\"dataframe\">\n",
       "  <thead>\n",
       "    <tr style=\"text-align: right;\">\n",
       "      <th></th>\n",
       "      <th>begin_index</th>\n",
       "      <th>begin_timestamp_string</th>\n",
       "      <th>filtered_signal</th>\n",
       "      <th>phase_num</th>\n",
       "      <th>raw_signal_current</th>\n",
       "      <th>raw_signal_voltage</th>\n",
       "      <th>three_first_peaks</th>\n",
       "      <th>three_first_peaks_index</th>\n",
       "      <th>transient_rise_gradient</th>\n",
       "      <th>P</th>\n",
       "      <th>charging_status</th>\n",
       "      <th>P_mean</th>\n",
       "      <th>P_delta</th>\n",
       "      <th>P_Plugin</th>\n",
       "      <th>P_Unplug</th>\n",
       "    </tr>\n",
       "    <tr>\n",
       "      <th>begin_timestamp_float</th>\n",
       "      <th></th>\n",
       "      <th></th>\n",
       "      <th></th>\n",
       "      <th></th>\n",
       "      <th></th>\n",
       "      <th></th>\n",
       "      <th></th>\n",
       "      <th></th>\n",
       "      <th></th>\n",
       "      <th></th>\n",
       "      <th></th>\n",
       "      <th></th>\n",
       "      <th></th>\n",
       "      <th></th>\n",
       "      <th></th>\n",
       "    </tr>\n",
       "  </thead>\n",
       "  <tbody>\n",
       "    <tr>\n",
       "      <th>1.491027e+09</th>\n",
       "      <td>701</td>\n",
       "      <td>01-04-2017_08:01:41_529732</td>\n",
       "      <td>[7.9862e-06, 0.0259479208, -0.0389019368, 7.97...</td>\n",
       "      <td>2</td>\n",
       "      <td>[0.6561279297, 0.7019042969, 0.7629394531, 0.7...</td>\n",
       "      <td>[289.647277832, 289.6991882324, 289.8029785156...</td>\n",
       "      <td>[26.198, 4.360, 2.076]</td>\n",
       "      <td>[754, 884, 1015]</td>\n",
       "      <td>2.458070e+05</td>\n",
       "      <td>[105.77301788330078, 104.60313415527344, 105.3...</td>\n",
       "      <td>0</td>\n",
       "      <td>105</td>\n",
       "      <td>0</td>\n",
       "      <td>0</td>\n",
       "      <td>0</td>\n",
       "    </tr>\n",
       "    <tr>\n",
       "      <th>1.491027e+09</th>\n",
       "      <td>806</td>\n",
       "      <td>01-04-2017_08:14:53_521148</td>\n",
       "      <td>[0.3013579845, 0.27552866940000004, 0.30145740...</td>\n",
       "      <td>2</td>\n",
       "      <td>[0.732421875, 0.7171630859, 0.7476806641, 0.76...</td>\n",
       "      <td>[289.1282348633, 289.2579956055, 289.335845947...</td>\n",
       "      <td>[21.480, 3.592, 1.415]</td>\n",
       "      <td>[860, 1074, 1427]</td>\n",
       "      <td>1.951086e+05</td>\n",
       "      <td>[105.6083755493164, 105.91771697998047, 105.88...</td>\n",
       "      <td>0</td>\n",
       "      <td>105</td>\n",
       "      <td>0</td>\n",
       "      <td>0</td>\n",
       "      <td>0</td>\n",
       "    </tr>\n",
       "    <tr>\n",
       "      <th>1.491073e+09</th>\n",
       "      <td>5717</td>\n",
       "      <td>01-04-2017_20:57:48_799036</td>\n",
       "      <td>[-0.0624732189, -0.1910434365, 0.0152767645, -...</td>\n",
       "      <td>2</td>\n",
       "      <td>[-1.2969970703, -1.2512207031, -1.2359619141, ...</td>\n",
       "      <td>[-292.2813720703, -292.3981628418, -292.618743...</td>\n",
       "      <td>[26.096, 4.280, 2.540]</td>\n",
       "      <td>[5769, 5892, 6032]</td>\n",
       "      <td>2.423178e+05</td>\n",
       "      <td>[107.5003433227539, 107.1847915649414, 107.303...</td>\n",
       "      <td>0</td>\n",
       "      <td>106</td>\n",
       "      <td>-1</td>\n",
       "      <td>0</td>\n",
       "      <td>0</td>\n",
       "    </tr>\n",
       "    <tr>\n",
       "      <th>1.488462e+09</th>\n",
       "      <td>2750</td>\n",
       "      <td>02-03-2017_14:42:56_465712</td>\n",
       "      <td>[-0.1300312473, 7.76288e-05, -0.0388483592, 0....</td>\n",
       "      <td>1</td>\n",
       "      <td>[-2.6092529297000002, -2.6092529297000002, -2....</td>\n",
       "      <td>[0.1690305471, -0.1430258453, -0.3770681620000...</td>\n",
       "      <td>[58.447, 13.698, 33.141]</td>\n",
       "      <td>[2760, 2843, 3400]</td>\n",
       "      <td>-2.846197e+06</td>\n",
       "      <td>[3704.182861328125, 3712.759521484375, 3715.73...</td>\n",
       "      <td>1</td>\n",
       "      <td>4850</td>\n",
       "      <td>3551</td>\n",
       "      <td>1</td>\n",
       "      <td>0</td>\n",
       "    </tr>\n",
       "    <tr>\n",
       "      <th>1.488462e+09</th>\n",
       "      <td>9697</td>\n",
       "      <td>02-03-2017_14:45:31_804547</td>\n",
       "      <td>[0.142554611, 0.0336101092, 0.1024524048000000...</td>\n",
       "      <td>3</td>\n",
       "      <td>[-31.0211181641, -31.1126708984, -31.127929687...</td>\n",
       "      <td>[-297.951385498, -297.7366638184, -297.6964111...</td>\n",
       "      <td>[40.280, 21.233, 2.845]</td>\n",
       "      <td>[9709, 9791, 9874]</td>\n",
       "      <td>-1.692315e+06</td>\n",
       "      <td>[7219.86328125, 7217.51416015625, 7218.6166992...</td>\n",
       "      <td>1</td>\n",
       "      <td>8313</td>\n",
       "      <td>3503</td>\n",
       "      <td>1</td>\n",
       "      <td>0</td>\n",
       "    </tr>\n",
       "  </tbody>\n",
       "</table>\n",
       "</div>"
      ],
      "text/plain": [
       "                       begin_index      begin_timestamp_string  \\\n",
       "begin_timestamp_float                                            \n",
       "1.491027e+09                   701  01-04-2017_08:01:41_529732   \n",
       "1.491027e+09                   806  01-04-2017_08:14:53_521148   \n",
       "1.491073e+09                  5717  01-04-2017_20:57:48_799036   \n",
       "1.488462e+09                  2750  02-03-2017_14:42:56_465712   \n",
       "1.488462e+09                  9697  02-03-2017_14:45:31_804547   \n",
       "\n",
       "                                                         filtered_signal  \\\n",
       "begin_timestamp_float                                                      \n",
       "1.491027e+09           [7.9862e-06, 0.0259479208, -0.0389019368, 7.97...   \n",
       "1.491027e+09           [0.3013579845, 0.27552866940000004, 0.30145740...   \n",
       "1.491073e+09           [-0.0624732189, -0.1910434365, 0.0152767645, -...   \n",
       "1.488462e+09           [-0.1300312473, 7.76288e-05, -0.0388483592, 0....   \n",
       "1.488462e+09           [0.142554611, 0.0336101092, 0.1024524048000000...   \n",
       "\n",
       "                       phase_num  \\\n",
       "begin_timestamp_float              \n",
       "1.491027e+09                   2   \n",
       "1.491027e+09                   2   \n",
       "1.491073e+09                   2   \n",
       "1.488462e+09                   1   \n",
       "1.488462e+09                   3   \n",
       "\n",
       "                                                      raw_signal_current  \\\n",
       "begin_timestamp_float                                                      \n",
       "1.491027e+09           [0.6561279297, 0.7019042969, 0.7629394531, 0.7...   \n",
       "1.491027e+09           [0.732421875, 0.7171630859, 0.7476806641, 0.76...   \n",
       "1.491073e+09           [-1.2969970703, -1.2512207031, -1.2359619141, ...   \n",
       "1.488462e+09           [-2.6092529297000002, -2.6092529297000002, -2....   \n",
       "1.488462e+09           [-31.0211181641, -31.1126708984, -31.127929687...   \n",
       "\n",
       "                                                      raw_signal_voltage  \\\n",
       "begin_timestamp_float                                                      \n",
       "1.491027e+09           [289.647277832, 289.6991882324, 289.8029785156...   \n",
       "1.491027e+09           [289.1282348633, 289.2579956055, 289.335845947...   \n",
       "1.491073e+09           [-292.2813720703, -292.3981628418, -292.618743...   \n",
       "1.488462e+09           [0.1690305471, -0.1430258453, -0.3770681620000...   \n",
       "1.488462e+09           [-297.951385498, -297.7366638184, -297.6964111...   \n",
       "\n",
       "                              three_first_peaks three_first_peaks_index  \\\n",
       "begin_timestamp_float                                                     \n",
       "1.491027e+09             [26.198, 4.360, 2.076]        [754, 884, 1015]   \n",
       "1.491027e+09             [21.480, 3.592, 1.415]       [860, 1074, 1427]   \n",
       "1.491073e+09             [26.096, 4.280, 2.540]      [5769, 5892, 6032]   \n",
       "1.488462e+09           [58.447, 13.698, 33.141]      [2760, 2843, 3400]   \n",
       "1.488462e+09            [40.280, 21.233, 2.845]      [9709, 9791, 9874]   \n",
       "\n",
       "                       transient_rise_gradient  \\\n",
       "begin_timestamp_float                            \n",
       "1.491027e+09                      2.458070e+05   \n",
       "1.491027e+09                      1.951086e+05   \n",
       "1.491073e+09                      2.423178e+05   \n",
       "1.488462e+09                     -2.846197e+06   \n",
       "1.488462e+09                     -1.692315e+06   \n",
       "\n",
       "                                                                       P  \\\n",
       "begin_timestamp_float                                                      \n",
       "1.491027e+09           [105.77301788330078, 104.60313415527344, 105.3...   \n",
       "1.491027e+09           [105.6083755493164, 105.91771697998047, 105.88...   \n",
       "1.491073e+09           [107.5003433227539, 107.1847915649414, 107.303...   \n",
       "1.488462e+09           [3704.182861328125, 3712.759521484375, 3715.73...   \n",
       "1.488462e+09           [7219.86328125, 7217.51416015625, 7218.6166992...   \n",
       "\n",
       "                       charging_status  P_mean  P_delta  P_Plugin  P_Unplug  \n",
       "begin_timestamp_float                                                        \n",
       "1.491027e+09                         0     105        0         0         0  \n",
       "1.491027e+09                         0     105        0         0         0  \n",
       "1.491073e+09                         0     106       -1         0         0  \n",
       "1.488462e+09                         1    4850     3551         1         0  \n",
       "1.488462e+09                         1    8313     3503         1         0  "
      ]
     },
     "execution_count": 9,
     "metadata": {},
     "output_type": "execute_result"
    }
   ],
   "source": [
    "data.head()"
   ]
  },
  {
   "cell_type": "markdown",
   "metadata": {},
   "source": [
    "## Preprossing Data"
   ]
  },
  {
   "cell_type": "markdown",
   "metadata": {},
   "source": [
    "The next step is to Preprocessing the Data. In this present Case it's possible that the transient detect only on one phase, two phases or all phases. Therefore it's important to ascertain how often one of the three events is detecteted. Then we can create seperate Dataframe for this three events."
   ]
  },
  {
   "cell_type": "code",
   "execution_count": 10,
   "metadata": {},
   "outputs": [],
   "source": [
    "test = data.raw_signal_voltage.apply(lambda x: np.asarray(x))"
   ]
  },
  {
   "cell_type": "code",
   "execution_count": 11,
   "metadata": {},
   "outputs": [
    {
     "data": {
      "text/plain": [
       "array([ 289.64727783,  289.69918823,  289.80297852, ...,  289.24502563,\n",
       "        289.28396606,  289.36181641])"
      ]
     },
     "execution_count": 11,
     "metadata": {},
     "output_type": "execute_result"
    }
   ],
   "source": [
    "test.iloc[0]"
   ]
  },
  {
   "cell_type": "code",
   "execution_count": 12,
   "metadata": {
    "scrolled": true
   },
   "outputs": [
    {
     "name": "stdout",
     "output_type": "stream",
     "text": [
      "All events: 1568\n",
      "Events with one phase: 1305\n",
      "Events with two phases: 212\n",
      "Events with three phases: 51\n",
      "CPU times: user 4.57 ms, sys: 869 µs, total: 5.44 ms\n",
      "Wall time: 4.82 ms\n"
     ]
    }
   ],
   "source": [
    "%%time\n",
    "from collections import Counter\n",
    "#documentation : https://docs.python.org/2/library/collections.html\n",
    "\n",
    "# put all timestamps to a list\n",
    "# and create a dict with Counter() to get a timestamp as key and a value how often we can find this timestamp\n",
    "timestamps = data.index.tolist()\n",
    "counter_timestamps = Counter()\n",
    "for timestamp in timestamps:\n",
    "    counter_timestamps[timestamp] += 1\n",
    "\n",
    "# create a series from the counter object, that we can handle better the information\n",
    "counter_timestamps_series = pd.Series(counter_timestamps)\n",
    "data_point_num = len(counter_timestamps_series)\n",
    "data_points_per_phase = counter_timestamps_series.value_counts()\n",
    "\n",
    "# print all the result\n",
    "print(\"All events: {}\".format(data_point_num))\n",
    "print(\"Events with one phase: {}\".format(data_points_per_phase[1]))\n",
    "print(\"Events with two phases: {}\".format(data_points_per_phase[2]))\n",
    "print(\"Events with three phases: {}\".format(data_points_per_phase[3]))"
   ]
  },
  {
   "cell_type": "code",
   "execution_count": 13,
   "metadata": {
    "collapsed": true
   },
   "outputs": [],
   "source": [
    "# import a function that can seperate trasients by event types and extract some features\n",
    "from SEPERATE_DF import *"
   ]
  },
  {
   "cell_type": "code",
   "execution_count": 14,
   "metadata": {
    "scrolled": true
   },
   "outputs": [
    {
     "name": "stdout",
     "output_type": "stream",
     "text": [
      "CPU times: user 9.41 s, sys: 42.2 ms, total: 9.45 s\n",
      "Wall time: 9.46 s\n"
     ]
    }
   ],
   "source": [
    "%time events_from_outside, transients_1_phase, transients_2_phase, transients_3_phase = seperate_transients(data)"
   ]
  },
  {
   "cell_type": "code",
   "execution_count": 15,
   "metadata": {
    "collapsed": true
   },
   "outputs": [],
   "source": [
    "# export df to csv files\n",
    "events_from_outside.to_pickle(\"events_from_outside.pkl\")\n",
    "transients_1_phase.to_pickle(\"transients_1_phase.pkl\")\n",
    "transients_2_phase.to_pickle(\"transients_2_phase.pkl\")\n",
    "transients_3_phase.to_pickle(\"transients_3_phase.pkl\")"
   ]
  },
  {
   "cell_type": "code",
   "execution_count": 18,
   "metadata": {},
   "outputs": [
    {
     "data": {
      "text/html": [
       "<div>\n",
       "<style>\n",
       "    .dataframe thead tr:only-child th {\n",
       "        text-align: right;\n",
       "    }\n",
       "\n",
       "    .dataframe thead th {\n",
       "        text-align: left;\n",
       "    }\n",
       "\n",
       "    .dataframe tbody tr th {\n",
       "        vertical-align: top;\n",
       "    }\n",
       "</style>\n",
       "<table border=\"1\" class=\"dataframe\">\n",
       "  <thead>\n",
       "    <tr style=\"text-align: right;\">\n",
       "      <th></th>\n",
       "      <th>begin_index</th>\n",
       "      <th>begin_timestamp_string</th>\n",
       "      <th>filtered_signal</th>\n",
       "      <th>phase_num</th>\n",
       "      <th>raw_signal_current</th>\n",
       "      <th>raw_signal_voltage</th>\n",
       "      <th>three_first_peaks</th>\n",
       "      <th>three_first_peaks_index</th>\n",
       "      <th>transient_rise_gradient</th>\n",
       "      <th>P</th>\n",
       "      <th>charging_status</th>\n",
       "      <th>P_mean</th>\n",
       "      <th>P_delta</th>\n",
       "      <th>P_Plugin</th>\n",
       "      <th>P_Unplug</th>\n",
       "    </tr>\n",
       "  </thead>\n",
       "  <tbody>\n",
       "    <tr>\n",
       "      <th>1.491395e+09</th>\n",
       "      <td>4016</td>\n",
       "      <td>05-04-2017_14:23:22_406877</td>\n",
       "      <td>[0.18232499060000001, 0.1427274048, 0.18223194...</td>\n",
       "      <td>1</td>\n",
       "      <td>[-1.9378662109, -2.0141601562, -2.0141601562, ...</td>\n",
       "      <td>[0.0390070491, -0.1430258453, -0.4550822377, -...</td>\n",
       "      <td>[22.142, 7.970, 18.781]</td>\n",
       "      <td>[4023, 4042, 4779]</td>\n",
       "      <td>1.535173e+06</td>\n",
       "      <td>[193.2838592529297, 191.64263916015625, 194.01...</td>\n",
       "      <td>1</td>\n",
       "      <td>4914</td>\n",
       "      <td>3543</td>\n",
       "      <td>1</td>\n",
       "      <td>0</td>\n",
       "    </tr>\n",
       "    <tr>\n",
       "      <th>1.491395e+09</th>\n",
       "      <td>4016</td>\n",
       "      <td>05-04-2017_14:23:22_406877</td>\n",
       "      <td>[0.3145695329, 0.3665215075, 0.3665425181, 0.3...</td>\n",
       "      <td>2</td>\n",
       "      <td>[20.5841064453, 20.6451416016, 20.6909179688, ...</td>\n",
       "      <td>[290.9189147949, 290.9967651367, 291.061645507...</td>\n",
       "      <td>[24.063, 7.688, 16.598]</td>\n",
       "      <td>[4023, 4107, 4781]</td>\n",
       "      <td>1.677861e+06</td>\n",
       "      <td>[3659.302490234375, 3659.780029296875, 3660.46...</td>\n",
       "      <td>1</td>\n",
       "      <td>4914</td>\n",
       "      <td>3543</td>\n",
       "      <td>1</td>\n",
       "      <td>0</td>\n",
       "    </tr>\n",
       "    <tr>\n",
       "      <th>1.491395e+09</th>\n",
       "      <td>4016</td>\n",
       "      <td>05-04-2017_14:23:22_406877</td>\n",
       "      <td>[-0.016060669, 0.06456168, 0.1584541202, 0.158...</td>\n",
       "      <td>3</td>\n",
       "      <td>[-15.4571533203, -15.4113769531, -15.380859375...</td>\n",
       "      <td>[-294.582824707, -294.4351806641, -294.3949279...</td>\n",
       "      <td>[69.691, 21.316, 45.636]</td>\n",
       "      <td>[4024, 4052, 4782]</td>\n",
       "      <td>4.173877e+06</td>\n",
       "      <td>[3698.833740234375, 3698.317138671875, 3701.89...</td>\n",
       "      <td>1</td>\n",
       "      <td>4914</td>\n",
       "      <td>3543</td>\n",
       "      <td>1</td>\n",
       "      <td>0</td>\n",
       "    </tr>\n",
       "    <tr>\n",
       "      <th>1.488965e+09</th>\n",
       "      <td>3508</td>\n",
       "      <td>08-03-2017_10:27:50_128345</td>\n",
       "      <td>[0.15550541880000002, 0.15653982760000001, 0.2...</td>\n",
       "      <td>1</td>\n",
       "      <td>[-1.953125, -1.953125, -1.9226074219, -1.89208...</td>\n",
       "      <td>[-0.013002350000000001, -0.2080375999, -0.5200...</td>\n",
       "      <td>[23.521, 9.473, 20.440]</td>\n",
       "      <td>[3516, 3535, 4332]</td>\n",
       "      <td>1.466010e+06</td>\n",
       "      <td>[199.44705200195312, 189.89479064941406, 200.9...</td>\n",
       "      <td>1</td>\n",
       "      <td>4866</td>\n",
       "      <td>3477</td>\n",
       "      <td>1</td>\n",
       "      <td>0</td>\n",
       "    </tr>\n",
       "    <tr>\n",
       "      <th>1.488965e+09</th>\n",
       "      <td>3508</td>\n",
       "      <td>08-03-2017_10:27:50_128345</td>\n",
       "      <td>[0.2236295193, 0.28847584130000004, 0.36641946...</td>\n",
       "      <td>2</td>\n",
       "      <td>[20.2789306641, 20.3094482422, 20.3399658203, ...</td>\n",
       "      <td>[289.1542053223, 289.2450256348, 289.309906005...</td>\n",
       "      <td>[25.649, 9.155, 21.862]</td>\n",
       "      <td>[3516, 3561, 4331]</td>\n",
       "      <td>1.593177e+06</td>\n",
       "      <td>[3603.539794921875, 3602.707275390625, 3602.30...</td>\n",
       "      <td>1</td>\n",
       "      <td>4866</td>\n",
       "      <td>3477</td>\n",
       "      <td>1</td>\n",
       "      <td>0</td>\n",
       "    </tr>\n",
       "  </tbody>\n",
       "</table>\n",
       "</div>"
      ],
      "text/plain": [
       "              begin_index      begin_timestamp_string  \\\n",
       "1.491395e+09         4016  05-04-2017_14:23:22_406877   \n",
       "1.491395e+09         4016  05-04-2017_14:23:22_406877   \n",
       "1.491395e+09         4016  05-04-2017_14:23:22_406877   \n",
       "1.488965e+09         3508  08-03-2017_10:27:50_128345   \n",
       "1.488965e+09         3508  08-03-2017_10:27:50_128345   \n",
       "\n",
       "                                                filtered_signal  phase_num  \\\n",
       "1.491395e+09  [0.18232499060000001, 0.1427274048, 0.18223194...          1   \n",
       "1.491395e+09  [0.3145695329, 0.3665215075, 0.3665425181, 0.3...          2   \n",
       "1.491395e+09  [-0.016060669, 0.06456168, 0.1584541202, 0.158...          3   \n",
       "1.488965e+09  [0.15550541880000002, 0.15653982760000001, 0.2...          1   \n",
       "1.488965e+09  [0.2236295193, 0.28847584130000004, 0.36641946...          2   \n",
       "\n",
       "                                             raw_signal_current  \\\n",
       "1.491395e+09  [-1.9378662109, -2.0141601562, -2.0141601562, ...   \n",
       "1.491395e+09  [20.5841064453, 20.6451416016, 20.6909179688, ...   \n",
       "1.491395e+09  [-15.4571533203, -15.4113769531, -15.380859375...   \n",
       "1.488965e+09  [-1.953125, -1.953125, -1.9226074219, -1.89208...   \n",
       "1.488965e+09  [20.2789306641, 20.3094482422, 20.3399658203, ...   \n",
       "\n",
       "                                             raw_signal_voltage  \\\n",
       "1.491395e+09  [0.0390070491, -0.1430258453, -0.4550822377, -...   \n",
       "1.491395e+09  [290.9189147949, 290.9967651367, 291.061645507...   \n",
       "1.491395e+09  [-294.582824707, -294.4351806641, -294.3949279...   \n",
       "1.488965e+09  [-0.013002350000000001, -0.2080375999, -0.5200...   \n",
       "1.488965e+09  [289.1542053223, 289.2450256348, 289.309906005...   \n",
       "\n",
       "                     three_first_peaks three_first_peaks_index  \\\n",
       "1.491395e+09   [22.142, 7.970, 18.781]      [4023, 4042, 4779]   \n",
       "1.491395e+09   [24.063, 7.688, 16.598]      [4023, 4107, 4781]   \n",
       "1.491395e+09  [69.691, 21.316, 45.636]      [4024, 4052, 4782]   \n",
       "1.488965e+09   [23.521, 9.473, 20.440]      [3516, 3535, 4332]   \n",
       "1.488965e+09   [25.649, 9.155, 21.862]      [3516, 3561, 4331]   \n",
       "\n",
       "              transient_rise_gradient  \\\n",
       "1.491395e+09             1.535173e+06   \n",
       "1.491395e+09             1.677861e+06   \n",
       "1.491395e+09             4.173877e+06   \n",
       "1.488965e+09             1.466010e+06   \n",
       "1.488965e+09             1.593177e+06   \n",
       "\n",
       "                                                              P  \\\n",
       "1.491395e+09  [193.2838592529297, 191.64263916015625, 194.01...   \n",
       "1.491395e+09  [3659.302490234375, 3659.780029296875, 3660.46...   \n",
       "1.491395e+09  [3698.833740234375, 3698.317138671875, 3701.89...   \n",
       "1.488965e+09  [199.44705200195312, 189.89479064941406, 200.9...   \n",
       "1.488965e+09  [3603.539794921875, 3602.707275390625, 3602.30...   \n",
       "\n",
       "              charging_status  P_mean  P_delta  P_Plugin  P_Unplug  \n",
       "1.491395e+09                1    4914     3543         1         0  \n",
       "1.491395e+09                1    4914     3543         1         0  \n",
       "1.491395e+09                1    4914     3543         1         0  \n",
       "1.488965e+09                1    4866     3477         1         0  \n",
       "1.488965e+09                1    4866     3477         1         0  "
      ]
     },
     "execution_count": 18,
     "metadata": {},
     "output_type": "execute_result"
    }
   ],
   "source": [
    "df1 = pd.read_pickle('transients_3_phase.pkl')\n",
    "df1.head()"
   ]
  },
  {
   "cell_type": "code",
   "execution_count": null,
   "metadata": {},
   "outputs": [],
   "source": [
    "transients_1_phase.head()"
   ]
  },
  {
   "cell_type": "code",
   "execution_count": null,
   "metadata": {},
   "outputs": [],
   "source": [
    "len(events_from_outside)"
   ]
  },
  {
   "cell_type": "code",
   "execution_count": null,
   "metadata": {},
   "outputs": [],
   "source": [
    "len(transients_1_phase)"
   ]
  },
  {
   "cell_type": "code",
   "execution_count": null,
   "metadata": {
    "scrolled": true
   },
   "outputs": [],
   "source": [
    "len(transients_2_phase)"
   ]
  },
  {
   "cell_type": "code",
   "execution_count": null,
   "metadata": {},
   "outputs": [],
   "source": [
    "len(transients_3_phase)"
   ]
  },
  {
   "cell_type": "markdown",
   "metadata": {},
   "source": [
    "### Create Feature Dataframe from exist features"
   ]
  },
  {
   "cell_type": "markdown",
   "metadata": {},
   "source": [
    "The Problem with time series is, that they are high dimensional. Therefore it's important to extract features from this time series to reduce the dimensions of the data. So the next step is to preprocessing our data, that we can extract features from this Dataframe. We will create a Dataframe for the current/voltage signals."
   ]
  },
  {
   "cell_type": "markdown",
   "metadata": {},
   "source": [
    "## Feature for one phase events"
   ]
  },
  {
   "cell_type": "code",
   "execution_count": null,
   "metadata": {
    "collapsed": true
   },
   "outputs": [],
   "source": [
    "from CREATE_DF import *"
   ]
  },
  {
   "cell_type": "code",
   "execution_count": null,
   "metadata": {},
   "outputs": [],
   "source": [
    "%time feature_df_with_nan_1 = create_feature_df(transients_1_phase)"
   ]
  },
  {
   "cell_type": "code",
   "execution_count": null,
   "metadata": {
    "collapsed": true
   },
   "outputs": [],
   "source": [
    "# sort df: The code put all NaN values in the last columns of the df\n",
    "feature_df_with_nan_sort_1 = feature_df_with_nan_1.apply(squeeze_nan, axis=1)\n",
    "feature_df_with_nan_sort_1.reset_index(level=0, inplace=True)\n",
    "\n",
    "# get columns name an put them into a list\n",
    "original_columns = feature_df_with_nan_sort_1.columns.tolist()\n",
    "# Create new column names\n",
    "new_columns = original_columns[:4] + original_columns[10:13] + original_columns[19:20] + original_columns[22:23]\n",
    "# drop all columns with NaN\n",
    "feature_df_1_phase = feature_df_with_nan_sort_1.dropna(axis=1)\n",
    "feature_df_1_phase = feature_df_1_phase.apply(pd.to_numeric)\n",
    "feature_df_1_phase.columns = new_columns"
   ]
  },
  {
   "cell_type": "code",
   "execution_count": null,
   "metadata": {
    "collapsed": true
   },
   "outputs": [],
   "source": [
    "feature_df_1_phase.to_csv(\"feature_df_1_phase.csv\", columns = new_columns, index=None)"
   ]
  },
  {
   "cell_type": "markdown",
   "metadata": {},
   "source": [
    "## Feature for two phase events"
   ]
  },
  {
   "cell_type": "code",
   "execution_count": null,
   "metadata": {},
   "outputs": [],
   "source": [
    "%time feature_df_with_nan_2 = create_feature_df(transients_2_phase)\n",
    "\n",
    "# sort df: The code put all NaN values in the last columns of the df\n",
    "feature_df_with_nan_sort_2 = feature_df_with_nan_2.apply(squeeze_nan, axis=1)\n",
    "feature_df_with_nan_sort_2.reset_index(level=0, inplace=True)\n",
    "# get columns name an put them into a list\n",
    "original_columns = feature_df_with_nan_sort_2.columns.tolist()\n",
    "# Create new column names\n",
    "new_columns = original_columns[:7] + original_columns[10:16] + original_columns[19:21] + original_columns[22:24]\n",
    "# drop all columns with NaN\n",
    "feature_df_2_phase = feature_df_with_nan_sort_2.dropna(axis=1)\n",
    "feature_df_2_phase = feature_df_2_phase.apply(pd.to_numeric)\n",
    "feature_df_2_phase.columns = new_columns"
   ]
  },
  {
   "cell_type": "code",
   "execution_count": null,
   "metadata": {
    "collapsed": true
   },
   "outputs": [],
   "source": [
    "feature_df_2_phase.to_csv(\"feature_df_2_phase.csv\", columns = new_columns, index=None)"
   ]
  },
  {
   "cell_type": "markdown",
   "metadata": {},
   "source": [
    "## Feature for three phase events"
   ]
  },
  {
   "cell_type": "code",
   "execution_count": null,
   "metadata": {
    "scrolled": true
   },
   "outputs": [],
   "source": [
    "%time feature_df_3_phase = create_feature_df(transients_3_phase)"
   ]
  },
  {
   "cell_type": "code",
   "execution_count": null,
   "metadata": {
    "collapsed": true
   },
   "outputs": [],
   "source": [
    "feature_df_3_phase.reset_index(level=0, inplace=True)"
   ]
  },
  {
   "cell_type": "code",
   "execution_count": null,
   "metadata": {},
   "outputs": [],
   "source": [
    "feature_df_3_phase.head()"
   ]
  },
  {
   "cell_type": "code",
   "execution_count": null,
   "metadata": {
    "collapsed": true
   },
   "outputs": [],
   "source": [
    "feature_df_3_phase.to_csv(\"feature_df_3_phase.csv\", index=None)"
   ]
  },
  {
   "cell_type": "code",
   "execution_count": null,
   "metadata": {
    "collapsed": true
   },
   "outputs": [],
   "source": [
    "test = pd.read_csv(\"feature_df_3_phase.csv\")"
   ]
  },
  {
   "cell_type": "code",
   "execution_count": null,
   "metadata": {},
   "outputs": [],
   "source": [
    "test.head()"
   ]
  },
  {
   "cell_type": "markdown",
   "metadata": {},
   "source": [
    "# Spielen"
   ]
  },
  {
   "cell_type": "code",
   "execution_count": null,
   "metadata": {
    "collapsed": true
   },
   "outputs": [],
   "source": [
    "Z = linkage(feature_df, 'ward')"
   ]
  },
  {
   "cell_type": "code",
   "execution_count": null,
   "metadata": {
    "collapsed": true
   },
   "outputs": [],
   "source": [
    "from scipy.cluster.hierarchy import cophenet\n",
    "from scipy.spatial.distance import pdist\n",
    "\n",
    "c, coph_dists = cophenet(Z, pdist(feature_df))\n",
    "c"
   ]
  },
  {
   "cell_type": "code",
   "execution_count": null,
   "metadata": {
    "collapsed": true
   },
   "outputs": [],
   "source": [
    "def fancy_dendrogram(*args, **kwargs):\n",
    "    max_d = kwargs.pop('max_d', None)\n",
    "    if max_d and 'color_threshold' not in kwargs:\n",
    "        kwargs['color_threshold'] = max_d\n",
    "    annotate_above = kwargs.pop('annotate_above', 0)\n",
    "\n",
    "    ddata = dendrogram(*args, **kwargs)\n",
    "\n",
    "    if not kwargs.get('no_plot', False):\n",
    "        plt.title('Hierarchical Clustering Dendrogram (truncated)')\n",
    "        plt.xlabel('sample index or (cluster size)')\n",
    "        plt.ylabel('distance')\n",
    "        for i, d, c in zip(ddata['icoord'], ddata['dcoord'], ddata['color_list']):\n",
    "            x = 0.5 * sum(i[1:3])\n",
    "            y = d[1]\n",
    "            if y > annotate_above:\n",
    "                plt.plot(x, y, 'o', c=c)\n",
    "                plt.annotate(\"%.3g\" % y, (x, y), xytext=(0, -5),\n",
    "                             textcoords='offset points',\n",
    "                             va='top', ha='center')\n",
    "        if max_d:\n",
    "            plt.axhline(y=max_d, c='k')\n",
    "    return ddata"
   ]
  },
  {
   "cell_type": "code",
   "execution_count": null,
   "metadata": {
    "collapsed": true
   },
   "outputs": [],
   "source": [
    "plt.figure(figsize=(10, 10))\n",
    "plt.title('Hierarchical Clustering Dendrogram')\n",
    "plt.xlabel('sample index')\n",
    "plt.ylabel('distance')\n",
    "fancy_dendrogram(\n",
    "    Z,\n",
    "    truncate_mode='lastp',\n",
    "    p=7,\n",
    "    leaf_rotation=90.,\n",
    "    leaf_font_size=12.,\n",
    "    show_contracted=True,\n",
    "    annotate_above=10,\n",
    "    max_d=16,\n",
    ")\n",
    "plt.show()"
   ]
  },
  {
   "cell_type": "code",
   "execution_count": null,
   "metadata": {
    "collapsed": true
   },
   "outputs": [],
   "source": [
    "# create trasient data frame\n",
    "raw_signal_current = data[\"raw_signal_current\"]\n",
    "raw_signal_voltage = data[\"raw_signal_voltage\"]\n",
    "\n",
    "# create dataframes\n",
    "# on row contains on time series\n",
    "# column is time or dimension\n",
    "df_raw_signal_current = pd.DataFrame([x for x in raw_signal_current])\n",
    "df_raw_signal_voltage = pd.DataFrame([x for x in raw_signal_voltage])"
   ]
  },
  {
   "cell_type": "code",
   "execution_count": null,
   "metadata": {
    "collapsed": true
   },
   "outputs": [],
   "source": [
    "df_raw_signal_current.head(1)"
   ]
  },
  {
   "cell_type": "code",
   "execution_count": null,
   "metadata": {
    "collapsed": true
   },
   "outputs": [],
   "source": [
    "df_raw_signal_voltage.head(1)"
   ]
  },
  {
   "cell_type": "markdown",
   "metadata": {},
   "source": [
    "### Clustering"
   ]
  },
  {
   "cell_type": "markdown",
   "metadata": {
    "collapsed": true
   },
   "source": [
    "### Extract Features Voltage (mit tsfresh)"
   ]
  },
  {
   "cell_type": "markdown",
   "metadata": {},
   "source": [
    "Quelle Bild:\n",
    "https://tsfresh.readthedocs.io/en/latest/_images/feature_extraction_process_20160815_mc_1.png"
   ]
  },
  {
   "cell_type": "code",
   "execution_count": null,
   "metadata": {
    "collapsed": true
   },
   "outputs": [],
   "source": [
    "from tsfresh import extract_features, extract_relevant_features, select_features\n",
    "from tsfresh.utilities.dataframe_functions import impute\n",
    "from tsfresh.feature_extraction import FeatureExtractionSettings\n",
    "\n",
    "extraction_settings = FeatureExtractionSettings()\n",
    "extraction_settings.IMPUTE = impute    # Fill in Infs and NaNs\n",
    "\n",
    "# transpose since tsfresh reads times series data column-wise, not row-wise\n",
    "df_raw_signal_voltage_t = df_raw_signal_voltage.copy().transpose()\n",
    "df_raw_signal_voltage_t_cut = df_raw_signal_voltage_t[:100]\n",
    "\n",
    "print(df_raw_signal_voltage_t_cut.shape)\n",
    "len(df_raw_signal_voltage_t_cut.columns)"
   ]
  },
  {
   "cell_type": "code",
   "execution_count": null,
   "metadata": {
    "collapsed": true
   },
   "outputs": [],
   "source": [
    "# rearrange voltage column-wise, not row-wise\n",
    "\n",
    "master_df = pd.DataFrame(df_raw_signal_voltage_t_cut[0])\n",
    "master_df['id'] = 0\n",
    "\n",
    "bar = progressbar.ProgressBar()\n",
    "\n",
    "with progressbar.ProgressBar(max_value=len(df_raw_signal_voltage_t_cut.columns)) as bar:\n",
    "    for i in range(1,500): #len(df_raw_signal_voltage_t.columns)\n",
    "        signal_df = pd.DataFrame(df_raw_signal_voltage_t_cut[i])\n",
    "        signal_df['id'] = i\n",
    "        master_df = pd.DataFrame(np.vstack([master_df, signal_df]))\n",
    "        bar.update(i)"
   ]
  },
  {
   "cell_type": "code",
   "execution_count": null,
   "metadata": {
    "collapsed": true
   },
   "outputs": [],
   "source": [
    "master_df.shape"
   ]
  },
  {
   "cell_type": "code",
   "execution_count": null,
   "metadata": {
    "collapsed": true
   },
   "outputs": [],
   "source": [
    "new_master_df = master_df.dropna(how='any')\n",
    "new_master_df.shape"
   ]
  },
  {
   "cell_type": "code",
   "execution_count": null,
   "metadata": {
    "collapsed": true,
    "scrolled": true
   },
   "outputs": [],
   "source": [
    "%time X = extract_features(new_master_df, column_id=1, feature_extraction_settings=extraction_settings)"
   ]
  }
 ],
 "metadata": {
  "anaconda-cloud": {},
  "kernelspec": {
   "display_name": "Python [default]",
   "language": "python",
   "name": "python3"
  },
  "language_info": {
   "codemirror_mode": {
    "name": "ipython",
    "version": 3
   },
   "file_extension": ".py",
   "mimetype": "text/x-python",
   "name": "python",
   "nbconvert_exporter": "python",
   "pygments_lexer": "ipython3",
   "version": "3.5.3"
  }
 },
 "nbformat": 4,
 "nbformat_minor": 2
}
