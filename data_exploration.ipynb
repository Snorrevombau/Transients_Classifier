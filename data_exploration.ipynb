{
 "cells": [
  {
   "cell_type": "code",
   "execution_count": 5,
   "metadata": {
    "collapsed": true
   },
   "outputs": [],
   "source": [
    "%matplotlib notebook"
   ]
  },
  {
   "cell_type": "code",
   "execution_count": 9,
   "metadata": {
    "collapsed": true
   },
   "outputs": [],
   "source": [
    "import pandas as pd\n",
    "import numpy as np\n",
    "import matplotlib.pyplot as plt\n",
    "\n",
    "import json\n",
    "from glob import glob"
   ]
  },
  {
   "cell_type": "code",
   "execution_count": 10,
   "metadata": {
    "collapsed": true
   },
   "outputs": [],
   "source": [
    "def import_trasient_from_file(url_of_folder):\n",
    "    \"\"\"\n",
    "    input: get a url where the function can find the files to import\n",
    "    The function tranform the import files to on pandas dataframe\n",
    "    return: a dataframe\n",
    "    \"\"\"\n",
    "    append_data = []\n",
    "    for file_name in glob(url_of_folder + '*.json'):\n",
    "        data = pd.read_json(file_name)\n",
    "        append_data.append(data)\n",
    "    all_data_as_data_frame = pd.concat(append_data, axis=1).transpose()\n",
    "    return all_data_as_data_frame"
   ]
  },
  {
   "cell_type": "code",
   "execution_count": 11,
   "metadata": {
    "collapsed": false
   },
   "outputs": [],
   "source": [
    "data = import_trasient_from_file(\"jsons/\")"
   ]
  },
  {
   "cell_type": "code",
   "execution_count": 14,
   "metadata": {
    "collapsed": false
   },
   "outputs": [
    {
     "data": {
      "text/html": [
       "<div>\n",
       "<table border=\"1\" class=\"dataframe\">\n",
       "  <thead>\n",
       "    <tr style=\"text-align: right;\">\n",
       "      <th></th>\n",
       "      <th>begin_index</th>\n",
       "      <th>begin_timestamp_float</th>\n",
       "      <th>begin_timestamp_string</th>\n",
       "      <th>filtered_signal</th>\n",
       "      <th>phase_num</th>\n",
       "      <th>raw_signal_current</th>\n",
       "      <th>raw_signal_voltage</th>\n",
       "      <th>three_first_peaks</th>\n",
       "      <th>three_first_peaks_index</th>\n",
       "      <th>transient_flag</th>\n",
       "      <th>transient_rise_gradient</th>\n",
       "    </tr>\n",
       "  </thead>\n",
       "  <tbody>\n",
       "    <tr>\n",
       "      <th>phase_0</th>\n",
       "      <td>NaN</td>\n",
       "      <td>NaN</td>\n",
       "      <td>NaN</td>\n",
       "      <td>NaN</td>\n",
       "      <td>0</td>\n",
       "      <td>[0.0, -0.0305175781, -0.0457763672, -0.0152587...</td>\n",
       "      <td>[0.0519034639, 0.0519034639, 0.0519034639, 0.1...</td>\n",
       "      <td>NaN</td>\n",
       "      <td>NaN</td>\n",
       "      <td>false</td>\n",
       "      <td>NaN</td>\n",
       "    </tr>\n",
       "    <tr>\n",
       "      <th>phase_1</th>\n",
       "      <td>NaN</td>\n",
       "      <td>NaN</td>\n",
       "      <td>NaN</td>\n",
       "      <td>NaN</td>\n",
       "      <td>1</td>\n",
       "      <td>[-1.8310546875, -1.8920898438, -1.7852783203, ...</td>\n",
       "      <td>[0.11702115090000001, -0.091016449, -0.2860516...</td>\n",
       "      <td>NaN</td>\n",
       "      <td>NaN</td>\n",
       "      <td>false</td>\n",
       "      <td>NaN</td>\n",
       "    </tr>\n",
       "    <tr>\n",
       "      <th>phase_2</th>\n",
       "      <td>701</td>\n",
       "      <td>1491026501.529732</td>\n",
       "      <td>01-04-2017_08:01:41_529732</td>\n",
       "      <td>[7.9862e-06, 0.0259479208, -0.0389019368, 7.97...</td>\n",
       "      <td>2</td>\n",
       "      <td>[0.6561279297, 0.7019042969, 0.7629394531, 0.7...</td>\n",
       "      <td>[289.647277832, 289.6991882324, 289.8029785156...</td>\n",
       "      <td>[26.198, 4.360, 2.076]</td>\n",
       "      <td>[754, 884, 1015]</td>\n",
       "      <td>true</td>\n",
       "      <td>245806.99751296898</td>\n",
       "    </tr>\n",
       "    <tr>\n",
       "      <th>phase_3</th>\n",
       "      <td>NaN</td>\n",
       "      <td>NaN</td>\n",
       "      <td>NaN</td>\n",
       "      <td>NaN</td>\n",
       "      <td>3</td>\n",
       "      <td>[0.9155273438, 0.9460449219, 0.9307861328, 0.9...</td>\n",
       "      <td>[-291.6973876953, -291.5765991211, -291.482635...</td>\n",
       "      <td>NaN</td>\n",
       "      <td>NaN</td>\n",
       "      <td>false</td>\n",
       "      <td>NaN</td>\n",
       "    </tr>\n",
       "    <tr>\n",
       "      <th>phase_0</th>\n",
       "      <td>NaN</td>\n",
       "      <td>NaN</td>\n",
       "      <td>NaN</td>\n",
       "      <td>NaN</td>\n",
       "      <td>0</td>\n",
       "      <td>[-0.0305175781, -0.0457763672, -0.015258789100...</td>\n",
       "      <td>[0.0908310637, 0.064879328, 0.1038069278, 0.09...</td>\n",
       "      <td>NaN</td>\n",
       "      <td>NaN</td>\n",
       "      <td>false</td>\n",
       "      <td>NaN</td>\n",
       "    </tr>\n",
       "  </tbody>\n",
       "</table>\n",
       "</div>"
      ],
      "text/plain": [
       "        begin_index begin_timestamp_float      begin_timestamp_string  \\\n",
       "phase_0         NaN                   NaN                         NaN   \n",
       "phase_1         NaN                   NaN                         NaN   \n",
       "phase_2         701     1491026501.529732  01-04-2017_08:01:41_529732   \n",
       "phase_3         NaN                   NaN                         NaN   \n",
       "phase_0         NaN                   NaN                         NaN   \n",
       "\n",
       "                                           filtered_signal phase_num  \\\n",
       "phase_0                                                NaN         0   \n",
       "phase_1                                                NaN         1   \n",
       "phase_2  [7.9862e-06, 0.0259479208, -0.0389019368, 7.97...         2   \n",
       "phase_3                                                NaN         3   \n",
       "phase_0                                                NaN         0   \n",
       "\n",
       "                                        raw_signal_current  \\\n",
       "phase_0  [0.0, -0.0305175781, -0.0457763672, -0.0152587...   \n",
       "phase_1  [-1.8310546875, -1.8920898438, -1.7852783203, ...   \n",
       "phase_2  [0.6561279297, 0.7019042969, 0.7629394531, 0.7...   \n",
       "phase_3  [0.9155273438, 0.9460449219, 0.9307861328, 0.9...   \n",
       "phase_0  [-0.0305175781, -0.0457763672, -0.015258789100...   \n",
       "\n",
       "                                        raw_signal_voltage  \\\n",
       "phase_0  [0.0519034639, 0.0519034639, 0.0519034639, 0.1...   \n",
       "phase_1  [0.11702115090000001, -0.091016449, -0.2860516...   \n",
       "phase_2  [289.647277832, 289.6991882324, 289.8029785156...   \n",
       "phase_3  [-291.6973876953, -291.5765991211, -291.482635...   \n",
       "phase_0  [0.0908310637, 0.064879328, 0.1038069278, 0.09...   \n",
       "\n",
       "              three_first_peaks three_first_peaks_index transient_flag  \\\n",
       "phase_0                     NaN                     NaN          false   \n",
       "phase_1                     NaN                     NaN          false   \n",
       "phase_2  [26.198, 4.360, 2.076]        [754, 884, 1015]           true   \n",
       "phase_3                     NaN                     NaN          false   \n",
       "phase_0                     NaN                     NaN          false   \n",
       "\n",
       "        transient_rise_gradient  \n",
       "phase_0                     NaN  \n",
       "phase_1                     NaN  \n",
       "phase_2      245806.99751296898  \n",
       "phase_3                     NaN  \n",
       "phase_0                     NaN  "
      ]
     },
     "execution_count": 14,
     "metadata": {},
     "output_type": "execute_result"
    }
   ],
   "source": [
    "data.head()"
   ]
  },
  {
   "cell_type": "code",
   "execution_count": null,
   "metadata": {
    "collapsed": true
   },
   "outputs": [],
   "source": []
  }
 ],
 "metadata": {
  "anaconda-cloud": {},
  "kernelspec": {
   "display_name": "Python 3",
   "language": "python",
   "name": "python3"
  },
  "language_info": {
   "codemirror_mode": {
    "name": "ipython",
    "version": 3
   },
   "file_extension": ".py",
   "mimetype": "text/x-python",
   "name": "python",
   "nbconvert_exporter": "python",
   "pygments_lexer": "ipython3",
   "version": "3.6.0"
  }
 },
 "nbformat": 4,
 "nbformat_minor": 2
}
